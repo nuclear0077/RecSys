{
 "cells": [
  {
   "cell_type": "code",
   "execution_count": 1,
   "metadata": {
    "id": "f30kVIVw-gDP"
   },
   "outputs": [],
   "source": [
    "#импортируем библиотеки\n",
    "import numpy as np\n",
    "import pandas as pd\n",
    "from tqdm.notebook import tqdm\n",
    "from math import floor\n",
    "import os"
   ]
  },
  {
   "cell_type": "code",
   "execution_count": 3,
   "metadata": {
    "id": "YXumWmW7-jp-"
   },
   "outputs": [],
   "source": [
    "#загрузим датасет\n",
    "transactions = pd.read_csv('transactions.csv')\n",
    "#отсортируем датасет\n",
    "transactions.sort_values('order_id',inplace=True)"
   ]
  },
  {
   "cell_type": "code",
   "execution_count": 4,
   "metadata": {
    "id": "3JaOyaIm-kvk"
   },
   "outputs": [],
   "source": [
    "#загрузим датасет\n",
    "product = pd.read_csv('products.csv')"
   ]
  },
  {
   "cell_type": "code",
   "execution_count": 5,
   "metadata": {
    "id": "5kTBIfDB--ZD"
   },
   "outputs": [],
   "source": [
    "#обьеденим датасеты\n",
    "full_df = transactions.merge(product,how='inner',left_on='product_id',right_on='product_id')"
   ]
  },
  {
   "cell_type": "code",
   "execution_count": 6,
   "metadata": {
    "id": "YP5dIg2KWxVW"
   },
   "outputs": [],
   "source": [
    "#создадим копию\n",
    "temp_df = full_df.copy()"
   ]
  },
  {
   "cell_type": "code",
   "execution_count": 7,
   "metadata": {
    "id": "0qJzmtvTXBve"
   },
   "outputs": [],
   "source": [
    "#оставим только нужные столбцы\n",
    "temp_df = temp_df[['order_id','user_id']]"
   ]
  },
  {
   "cell_type": "code",
   "execution_count": 9,
   "metadata": {
    "id": "knQ4dIH4F1A1"
   },
   "outputs": [],
   "source": [
    "#получим уникальных пользователей\n",
    "unique_user_id = temp_df.user_id.unique()"
   ]
  },
  {
   "cell_type": "code",
   "execution_count": 12,
   "metadata": {
    "id": "O9vzCT9aGIyd"
   },
   "outputs": [],
   "source": [
    "\n",
    "def train_test_split(df,unique_user_id,percent_train=0.7):\n",
    "    \"\"\"\n",
    "    Функция для разбиение чеков по пользователю в процентном соотношении и попорядку\n",
    "    для ускорения работы функции каждые 5 тысяч пользователей сохраняются в отдельный файл\n",
    "    \"\"\"\n",
    "  back = 0\n",
    "  for list_unique_users in range(5000,100001,5000):\n",
    "    df_train = pd.DataFrame(columns=df.columns)\n",
    "    df_test = pd.DataFrame(columns=df.columns)\n",
    "    if back == 0:\n",
    "      unique_list = unique_user_id[:list_unique_users]\n",
    "      back = list_unique_users\n",
    "      for user in tqdm(unique_list):\n",
    "        usr_one = df[df['user_id'] == user]\n",
    "        list_transactions = usr_one.order_id.unique()\n",
    "        transactions_train = list_transactions[:floor(len(list_transactions) * percent_train)]\n",
    "        transactions_test = list_transactions[floor(len(list_transactions) * percent_train):]\n",
    "        for order_id in transactions_train:\n",
    "          df_train = df_train.append({'user_id':user,'order_id':order_id},ignore_index=True)\n",
    "        for order_id in transactions_test:\n",
    "          df_test = df_test.append({'user_id':user,'order_id':order_id},ignore_index=True) \n",
    "      df_train.to_csv('df_train{}.csv'.format(back))   \n",
    "      df_test.to_csv('df_test{}.csv'.format(back))   \n",
    "    else:\n",
    "      unique_list = unique_user_id[back:list_unique_users]\n",
    "      back += 5000\n",
    "      for user in tqdm(unique_list):\n",
    "        usr_one = df[df['user_id'] == user]\n",
    "        list_transactions = usr_one.order_id.unique()\n",
    "        transactions_train = list_transactions[:floor(len(list_transactions) * percent_train)]\n",
    "        transactions_test = list_transactions[floor(len(list_transactions) * percent_train):]\n",
    "        for order_id in transactions_train:\n",
    "          df_train = df_train.append({'user_id':user,'order_id':order_id},ignore_index=True)\n",
    "        for order_id in transactions_test:\n",
    "          df_test = df_test.append({'user_id':user,'order_id':order_id},ignore_index=True) \n",
    "      df_train.to_csv('df_train{}.csv'.format(back))   \n",
    "      df_test.to_csv('df_test{}.csv'.format(back))  "
   ]
  },
  {
   "cell_type": "code",
   "execution_count": 40,
   "metadata": {
    "id": "gxxyyIwIGhYn"
   },
   "outputs": [],
   "source": [
    "#создадим тренировачный и тестовый датасет\n",
    "train = pd.DataFrame()\n",
    "test = pd.DataFrame()"
   ]
  },
  {
   "cell_type": "code",
   "execution_count": 1,
   "metadata": {},
   "outputs": [],
   "source": [
    "#вызовем функцию\n",
    "train_test_split(full_df,unique_user_id)"
   ]
  },
  {
   "cell_type": "code",
   "execution_count": 2,
   "metadata": {
    "colab": {
     "base_uri": "https://localhost:8080/"
    },
    "id": "vzjpUxZHY6Fu",
    "outputId": "dcf14645-7a13-4dd5-89b9-f77d942514af"
   },
   "outputs": [],
   "source": [
    "# !unzip '/content/drive/MyDrive/train.zip'\n",
    "# !unzip '/content/drive/MyDrive/test.zip'"
   ]
  },
  {
   "cell_type": "code",
   "execution_count": 18,
   "metadata": {
    "id": "TQSCrJmNZCYb"
   },
   "outputs": [],
   "source": [
    "#укажем пути для тренировачного и тестового датасета\n",
    "train_patch = './train/'\n",
    "test_patch = './test/'"
   ]
  },
  {
   "cell_type": "code",
   "execution_count": 19,
   "metadata": {
    "id": "alrnX9IuZcRY"
   },
   "outputs": [],
   "source": [
    "#получим список файлов\n",
    "train_files = os.listdir(train_patch)\n",
    "test_files = os.listdir(test_patch)"
   ]
  },
  {
   "cell_type": "code",
   "execution_count": 41,
   "metadata": {
    "colab": {
     "base_uri": "https://localhost:8080/",
     "height": 66,
     "referenced_widgets": [
      "4cf1ec219e2546de906024a5203cdf89",
      "bf869d4b167b44609ce0e50c9cd25af4",
      "818c51ce0c8f4da3b82fb562cd33d183",
      "10ec316021684bca9a59a234fb0f858f",
      "2535f9d970e2415e8bb2ab1d81c7b33d",
      "70d7237eaf564eb3ae125dcdb514d8a8",
      "93ac43fefd204566a81a5c47a69b99e0",
      "1e852b191b7b42ada56179ed2d98e5b8"
     ]
    },
    "id": "qAxRlLbLau9I",
    "outputId": "6133ed96-bab1-4f49-cbd3-4a7f3e2ba77a"
   },
   "outputs": [
    {
     "data": {
      "application/vnd.jupyter.widget-view+json": {
       "model_id": "7ad84d1081bc4fa2a06e4d4ba6a89e7f",
       "version_major": 2,
       "version_minor": 0
      },
      "text/plain": [
       "  0%|          | 0/20 [00:00<?, ?it/s]"
      ]
     },
     "metadata": {},
     "output_type": "display_data"
    }
   ],
   "source": [
    "#чиатем в цикле датасеты и обьеденяем\n",
    "for i in tqdm(train_files):\n",
    "  temp = pd.read_csv(train_patch + i,index_col='Unnamed: 0')\n",
    "  train = train.append(temp)"
   ]
  },
  {
   "cell_type": "code",
   "execution_count": 48,
   "metadata": {},
   "outputs": [],
   "source": [
    "#меняем типы столбцов и оставляем только нужные колонки\n",
    "train = train.astype({'order_id':'int','user_id':'int'})\n",
    "train = train[['order_id','user_id']]"
   ]
  },
  {
   "cell_type": "code",
   "execution_count": 43,
   "metadata": {
    "colab": {
     "base_uri": "https://localhost:8080/",
     "height": 66,
     "referenced_widgets": [
      "cb0b9389023241ea956766446cca4438",
      "fb942f7882ad4d3dbb5095739c0ef894",
      "bc8e1b1fa7b84f60a45230cf4362ebe7",
      "14b47673379d44078cc2c7f53e3480e8",
      "2e6b9e22285e490297840bc9d7b7b6e6",
      "e79cab478e464ed48686c9741e809bfe",
      "a9a6cbe6ccb7498b82a3bb9547d85c80",
      "aaeed17dc1c343f79e88b64d7415147e"
     ]
    },
    "id": "ati6EUdlabqs",
    "outputId": "c15a1ae9-25c9-4991-c3eb-204d343e4762"
   },
   "outputs": [
    {
     "data": {
      "application/vnd.jupyter.widget-view+json": {
       "model_id": "e555e06540ff403f82734680a730fb16",
       "version_major": 2,
       "version_minor": 0
      },
      "text/plain": [
       "  0%|          | 0/20 [00:00<?, ?it/s]"
      ]
     },
     "metadata": {},
     "output_type": "display_data"
    }
   ],
   "source": [
    "#чиатем в цикле датасеты и обьеденяем\n",
    "for i in tqdm(test_files):\n",
    "  temp = pd.read_csv(test_patch + i,index_col='Unnamed: 0')\n",
    "  test = test.append(temp)"
   ]
  },
  {
   "cell_type": "code",
   "execution_count": 3,
   "metadata": {},
   "outputs": [],
   "source": [
    "#меняем типы столбцов и оставляем только нужные колонки\n",
    "test = test.astype({'order_id':'int','user_id':'int'})\n",
    "test = test[['order_id','user_id']]"
   ]
  },
  {
   "cell_type": "code",
   "execution_count": 51,
   "metadata": {
    "id": "oXfzQSEYtWnY"
   },
   "outputs": [],
   "source": [
    "#объединим с основным\n",
    "train = train.merge(transactions,how='inner')"
   ]
  },
  {
   "cell_type": "code",
   "execution_count": 53,
   "metadata": {
    "id": "xV6s9B_ZvPPz"
   },
   "outputs": [],
   "source": [
    "#объединим с основным\n",
    "test = test.merge(transactions,how='inner')"
   ]
  },
  {
   "cell_type": "code",
   "execution_count": 55,
   "metadata": {
    "id": "pzseAyVRvmSn"
   },
   "outputs": [],
   "source": [
    "#выгрузим тренировачный датасет\n",
    "train.to_csv('train.csv')"
   ]
  },
  {
   "cell_type": "code",
   "execution_count": 56,
   "metadata": {
    "colab": {
     "base_uri": "https://localhost:8080/",
     "height": 306
    },
    "id": "Py0pNKFWv-rx",
    "outputId": "34448bfd-b1c0-4b94-9da1-2db7157e062c"
   },
   "outputs": [],
   "source": [
    "#выгрузим тестовый датасет\n",
    "test.to_csv('test.csv')"
   ]
  },
  {
   "cell_type": "code",
   "execution_count": null,
   "metadata": {
    "id": "NlnWao4yxOwK"
   },
   "outputs": [],
   "source": []
  }
 ],
 "metadata": {
  "colab": {
   "collapsed_sections": [],
   "machine_shape": "hm",
   "name": "Untitled2.ipynb",
   "provenance": []
  },
  "kernelspec": {
   "display_name": "Python 3",
   "language": "python",
   "name": "python3"
  },
  "language_info": {
   "codemirror_mode": {
    "name": "ipython",
    "version": 3
   },
   "file_extension": ".py",
   "mimetype": "text/x-python",
   "name": "python",
   "nbconvert_exporter": "python",
   "pygments_lexer": "ipython3",
   "version": "3.8.8"
  },
  "widgets": {
   "application/vnd.jupyter.widget-state+json": {
    "10ec316021684bca9a59a234fb0f858f": {
     "model_module": "@jupyter-widgets/controls",
     "model_module_version": "1.5.0",
     "model_name": "HTMLModel",
     "state": {
      "_dom_classes": [],
      "_model_module": "@jupyter-widgets/controls",
      "_model_module_version": "1.5.0",
      "_model_name": "HTMLModel",
      "_view_count": null,
      "_view_module": "@jupyter-widgets/controls",
      "_view_module_version": "1.5.0",
      "_view_name": "HTMLView",
      "description": "",
      "description_tooltip": null,
      "layout": "IPY_MODEL_1e852b191b7b42ada56179ed2d98e5b8",
      "placeholder": "​",
      "style": "IPY_MODEL_93ac43fefd204566a81a5c47a69b99e0",
      "value": " 20/20 [00:00&lt;00:00, 22.82it/s]"
     }
    },
    "14b47673379d44078cc2c7f53e3480e8": {
     "model_module": "@jupyter-widgets/controls",
     "model_module_version": "1.5.0",
     "model_name": "HTMLModel",
     "state": {
      "_dom_classes": [],
      "_model_module": "@jupyter-widgets/controls",
      "_model_module_version": "1.5.0",
      "_model_name": "HTMLModel",
      "_view_count": null,
      "_view_module": "@jupyter-widgets/controls",
      "_view_module_version": "1.5.0",
      "_view_name": "HTMLView",
      "description": "",
      "description_tooltip": null,
      "layout": "IPY_MODEL_aaeed17dc1c343f79e88b64d7415147e",
      "placeholder": "​",
      "style": "IPY_MODEL_a9a6cbe6ccb7498b82a3bb9547d85c80",
      "value": " 20/20 [00:00&lt;00:00, 43.45it/s]"
     }
    },
    "1e852b191b7b42ada56179ed2d98e5b8": {
     "model_module": "@jupyter-widgets/base",
     "model_module_version": "1.2.0",
     "model_name": "LayoutModel",
     "state": {
      "_model_module": "@jupyter-widgets/base",
      "_model_module_version": "1.2.0",
      "_model_name": "LayoutModel",
      "_view_count": null,
      "_view_module": "@jupyter-widgets/base",
      "_view_module_version": "1.2.0",
      "_view_name": "LayoutView",
      "align_content": null,
      "align_items": null,
      "align_self": null,
      "border": null,
      "bottom": null,
      "display": null,
      "flex": null,
      "flex_flow": null,
      "grid_area": null,
      "grid_auto_columns": null,
      "grid_auto_flow": null,
      "grid_auto_rows": null,
      "grid_column": null,
      "grid_gap": null,
      "grid_row": null,
      "grid_template_areas": null,
      "grid_template_columns": null,
      "grid_template_rows": null,
      "height": null,
      "justify_content": null,
      "justify_items": null,
      "left": null,
      "margin": null,
      "max_height": null,
      "max_width": null,
      "min_height": null,
      "min_width": null,
      "object_fit": null,
      "object_position": null,
      "order": null,
      "overflow": null,
      "overflow_x": null,
      "overflow_y": null,
      "padding": null,
      "right": null,
      "top": null,
      "visibility": null,
      "width": null
     }
    },
    "2535f9d970e2415e8bb2ab1d81c7b33d": {
     "model_module": "@jupyter-widgets/controls",
     "model_module_version": "1.5.0",
     "model_name": "ProgressStyleModel",
     "state": {
      "_model_module": "@jupyter-widgets/controls",
      "_model_module_version": "1.5.0",
      "_model_name": "ProgressStyleModel",
      "_view_count": null,
      "_view_module": "@jupyter-widgets/base",
      "_view_module_version": "1.2.0",
      "_view_name": "StyleView",
      "bar_color": null,
      "description_width": "initial"
     }
    },
    "2e6b9e22285e490297840bc9d7b7b6e6": {
     "model_module": "@jupyter-widgets/controls",
     "model_module_version": "1.5.0",
     "model_name": "ProgressStyleModel",
     "state": {
      "_model_module": "@jupyter-widgets/controls",
      "_model_module_version": "1.5.0",
      "_model_name": "ProgressStyleModel",
      "_view_count": null,
      "_view_module": "@jupyter-widgets/base",
      "_view_module_version": "1.2.0",
      "_view_name": "StyleView",
      "bar_color": null,
      "description_width": "initial"
     }
    },
    "4cf1ec219e2546de906024a5203cdf89": {
     "model_module": "@jupyter-widgets/controls",
     "model_module_version": "1.5.0",
     "model_name": "HBoxModel",
     "state": {
      "_dom_classes": [],
      "_model_module": "@jupyter-widgets/controls",
      "_model_module_version": "1.5.0",
      "_model_name": "HBoxModel",
      "_view_count": null,
      "_view_module": "@jupyter-widgets/controls",
      "_view_module_version": "1.5.0",
      "_view_name": "HBoxView",
      "box_style": "",
      "children": [
       "IPY_MODEL_818c51ce0c8f4da3b82fb562cd33d183",
       "IPY_MODEL_10ec316021684bca9a59a234fb0f858f"
      ],
      "layout": "IPY_MODEL_bf869d4b167b44609ce0e50c9cd25af4"
     }
    },
    "70d7237eaf564eb3ae125dcdb514d8a8": {
     "model_module": "@jupyter-widgets/base",
     "model_module_version": "1.2.0",
     "model_name": "LayoutModel",
     "state": {
      "_model_module": "@jupyter-widgets/base",
      "_model_module_version": "1.2.0",
      "_model_name": "LayoutModel",
      "_view_count": null,
      "_view_module": "@jupyter-widgets/base",
      "_view_module_version": "1.2.0",
      "_view_name": "LayoutView",
      "align_content": null,
      "align_items": null,
      "align_self": null,
      "border": null,
      "bottom": null,
      "display": null,
      "flex": null,
      "flex_flow": null,
      "grid_area": null,
      "grid_auto_columns": null,
      "grid_auto_flow": null,
      "grid_auto_rows": null,
      "grid_column": null,
      "grid_gap": null,
      "grid_row": null,
      "grid_template_areas": null,
      "grid_template_columns": null,
      "grid_template_rows": null,
      "height": null,
      "justify_content": null,
      "justify_items": null,
      "left": null,
      "margin": null,
      "max_height": null,
      "max_width": null,
      "min_height": null,
      "min_width": null,
      "object_fit": null,
      "object_position": null,
      "order": null,
      "overflow": null,
      "overflow_x": null,
      "overflow_y": null,
      "padding": null,
      "right": null,
      "top": null,
      "visibility": null,
      "width": null
     }
    },
    "818c51ce0c8f4da3b82fb562cd33d183": {
     "model_module": "@jupyter-widgets/controls",
     "model_module_version": "1.5.0",
     "model_name": "FloatProgressModel",
     "state": {
      "_dom_classes": [],
      "_model_module": "@jupyter-widgets/controls",
      "_model_module_version": "1.5.0",
      "_model_name": "FloatProgressModel",
      "_view_count": null,
      "_view_module": "@jupyter-widgets/controls",
      "_view_module_version": "1.5.0",
      "_view_name": "ProgressView",
      "bar_style": "success",
      "description": "100%",
      "description_tooltip": null,
      "layout": "IPY_MODEL_70d7237eaf564eb3ae125dcdb514d8a8",
      "max": 20,
      "min": 0,
      "orientation": "horizontal",
      "style": "IPY_MODEL_2535f9d970e2415e8bb2ab1d81c7b33d",
      "value": 20
     }
    },
    "93ac43fefd204566a81a5c47a69b99e0": {
     "model_module": "@jupyter-widgets/controls",
     "model_module_version": "1.5.0",
     "model_name": "DescriptionStyleModel",
     "state": {
      "_model_module": "@jupyter-widgets/controls",
      "_model_module_version": "1.5.0",
      "_model_name": "DescriptionStyleModel",
      "_view_count": null,
      "_view_module": "@jupyter-widgets/base",
      "_view_module_version": "1.2.0",
      "_view_name": "StyleView",
      "description_width": ""
     }
    },
    "a9a6cbe6ccb7498b82a3bb9547d85c80": {
     "model_module": "@jupyter-widgets/controls",
     "model_module_version": "1.5.0",
     "model_name": "DescriptionStyleModel",
     "state": {
      "_model_module": "@jupyter-widgets/controls",
      "_model_module_version": "1.5.0",
      "_model_name": "DescriptionStyleModel",
      "_view_count": null,
      "_view_module": "@jupyter-widgets/base",
      "_view_module_version": "1.2.0",
      "_view_name": "StyleView",
      "description_width": ""
     }
    },
    "aaeed17dc1c343f79e88b64d7415147e": {
     "model_module": "@jupyter-widgets/base",
     "model_module_version": "1.2.0",
     "model_name": "LayoutModel",
     "state": {
      "_model_module": "@jupyter-widgets/base",
      "_model_module_version": "1.2.0",
      "_model_name": "LayoutModel",
      "_view_count": null,
      "_view_module": "@jupyter-widgets/base",
      "_view_module_version": "1.2.0",
      "_view_name": "LayoutView",
      "align_content": null,
      "align_items": null,
      "align_self": null,
      "border": null,
      "bottom": null,
      "display": null,
      "flex": null,
      "flex_flow": null,
      "grid_area": null,
      "grid_auto_columns": null,
      "grid_auto_flow": null,
      "grid_auto_rows": null,
      "grid_column": null,
      "grid_gap": null,
      "grid_row": null,
      "grid_template_areas": null,
      "grid_template_columns": null,
      "grid_template_rows": null,
      "height": null,
      "justify_content": null,
      "justify_items": null,
      "left": null,
      "margin": null,
      "max_height": null,
      "max_width": null,
      "min_height": null,
      "min_width": null,
      "object_fit": null,
      "object_position": null,
      "order": null,
      "overflow": null,
      "overflow_x": null,
      "overflow_y": null,
      "padding": null,
      "right": null,
      "top": null,
      "visibility": null,
      "width": null
     }
    },
    "bc8e1b1fa7b84f60a45230cf4362ebe7": {
     "model_module": "@jupyter-widgets/controls",
     "model_module_version": "1.5.0",
     "model_name": "FloatProgressModel",
     "state": {
      "_dom_classes": [],
      "_model_module": "@jupyter-widgets/controls",
      "_model_module_version": "1.5.0",
      "_model_name": "FloatProgressModel",
      "_view_count": null,
      "_view_module": "@jupyter-widgets/controls",
      "_view_module_version": "1.5.0",
      "_view_name": "ProgressView",
      "bar_style": "success",
      "description": "100%",
      "description_tooltip": null,
      "layout": "IPY_MODEL_e79cab478e464ed48686c9741e809bfe",
      "max": 20,
      "min": 0,
      "orientation": "horizontal",
      "style": "IPY_MODEL_2e6b9e22285e490297840bc9d7b7b6e6",
      "value": 20
     }
    },
    "bf869d4b167b44609ce0e50c9cd25af4": {
     "model_module": "@jupyter-widgets/base",
     "model_module_version": "1.2.0",
     "model_name": "LayoutModel",
     "state": {
      "_model_module": "@jupyter-widgets/base",
      "_model_module_version": "1.2.0",
      "_model_name": "LayoutModel",
      "_view_count": null,
      "_view_module": "@jupyter-widgets/base",
      "_view_module_version": "1.2.0",
      "_view_name": "LayoutView",
      "align_content": null,
      "align_items": null,
      "align_self": null,
      "border": null,
      "bottom": null,
      "display": null,
      "flex": null,
      "flex_flow": null,
      "grid_area": null,
      "grid_auto_columns": null,
      "grid_auto_flow": null,
      "grid_auto_rows": null,
      "grid_column": null,
      "grid_gap": null,
      "grid_row": null,
      "grid_template_areas": null,
      "grid_template_columns": null,
      "grid_template_rows": null,
      "height": null,
      "justify_content": null,
      "justify_items": null,
      "left": null,
      "margin": null,
      "max_height": null,
      "max_width": null,
      "min_height": null,
      "min_width": null,
      "object_fit": null,
      "object_position": null,
      "order": null,
      "overflow": null,
      "overflow_x": null,
      "overflow_y": null,
      "padding": null,
      "right": null,
      "top": null,
      "visibility": null,
      "width": null
     }
    },
    "cb0b9389023241ea956766446cca4438": {
     "model_module": "@jupyter-widgets/controls",
     "model_module_version": "1.5.0",
     "model_name": "HBoxModel",
     "state": {
      "_dom_classes": [],
      "_model_module": "@jupyter-widgets/controls",
      "_model_module_version": "1.5.0",
      "_model_name": "HBoxModel",
      "_view_count": null,
      "_view_module": "@jupyter-widgets/controls",
      "_view_module_version": "1.5.0",
      "_view_name": "HBoxView",
      "box_style": "",
      "children": [
       "IPY_MODEL_bc8e1b1fa7b84f60a45230cf4362ebe7",
       "IPY_MODEL_14b47673379d44078cc2c7f53e3480e8"
      ],
      "layout": "IPY_MODEL_fb942f7882ad4d3dbb5095739c0ef894"
     }
    },
    "e79cab478e464ed48686c9741e809bfe": {
     "model_module": "@jupyter-widgets/base",
     "model_module_version": "1.2.0",
     "model_name": "LayoutModel",
     "state": {
      "_model_module": "@jupyter-widgets/base",
      "_model_module_version": "1.2.0",
      "_model_name": "LayoutModel",
      "_view_count": null,
      "_view_module": "@jupyter-widgets/base",
      "_view_module_version": "1.2.0",
      "_view_name": "LayoutView",
      "align_content": null,
      "align_items": null,
      "align_self": null,
      "border": null,
      "bottom": null,
      "display": null,
      "flex": null,
      "flex_flow": null,
      "grid_area": null,
      "grid_auto_columns": null,
      "grid_auto_flow": null,
      "grid_auto_rows": null,
      "grid_column": null,
      "grid_gap": null,
      "grid_row": null,
      "grid_template_areas": null,
      "grid_template_columns": null,
      "grid_template_rows": null,
      "height": null,
      "justify_content": null,
      "justify_items": null,
      "left": null,
      "margin": null,
      "max_height": null,
      "max_width": null,
      "min_height": null,
      "min_width": null,
      "object_fit": null,
      "object_position": null,
      "order": null,
      "overflow": null,
      "overflow_x": null,
      "overflow_y": null,
      "padding": null,
      "right": null,
      "top": null,
      "visibility": null,
      "width": null
     }
    },
    "fb942f7882ad4d3dbb5095739c0ef894": {
     "model_module": "@jupyter-widgets/base",
     "model_module_version": "1.2.0",
     "model_name": "LayoutModel",
     "state": {
      "_model_module": "@jupyter-widgets/base",
      "_model_module_version": "1.2.0",
      "_model_name": "LayoutModel",
      "_view_count": null,
      "_view_module": "@jupyter-widgets/base",
      "_view_module_version": "1.2.0",
      "_view_name": "LayoutView",
      "align_content": null,
      "align_items": null,
      "align_self": null,
      "border": null,
      "bottom": null,
      "display": null,
      "flex": null,
      "flex_flow": null,
      "grid_area": null,
      "grid_auto_columns": null,
      "grid_auto_flow": null,
      "grid_auto_rows": null,
      "grid_column": null,
      "grid_gap": null,
      "grid_row": null,
      "grid_template_areas": null,
      "grid_template_columns": null,
      "grid_template_rows": null,
      "height": null,
      "justify_content": null,
      "justify_items": null,
      "left": null,
      "margin": null,
      "max_height": null,
      "max_width": null,
      "min_height": null,
      "min_width": null,
      "object_fit": null,
      "object_position": null,
      "order": null,
      "overflow": null,
      "overflow_x": null,
      "overflow_y": null,
      "padding": null,
      "right": null,
      "top": null,
      "visibility": null,
      "width": null
     }
    }
   }
  }
 },
 "nbformat": 4,
 "nbformat_minor": 1
}
