{
  "nbformat": 4,
  "nbformat_minor": 0,
  "metadata": {
    "colab": {
      "name": "ALS,item_to_item,user_knn.ipynb",
      "provenance": [],
      "collapsed_sections": [],
      "machine_shape": "hm"
    },
    "kernelspec": {
      "name": "python3",
      "display_name": "Python 3"
    },
    "language_info": {
      "name": "python"
    },
    "widgets": {
      "application/vnd.jupyter.widget-state+json": {
        "bcef5fa45e654dfe8f15a464a34099bf": {
          "model_module": "@jupyter-widgets/controls",
          "model_name": "HBoxModel",
          "model_module_version": "1.5.0",
          "state": {
            "_view_name": "HBoxView",
            "_dom_classes": [],
            "_model_name": "HBoxModel",
            "_view_module": "@jupyter-widgets/controls",
            "_model_module_version": "1.5.0",
            "_view_count": null,
            "_view_module_version": "1.5.0",
            "box_style": "",
            "layout": "IPY_MODEL_bf1d7fcb149d4b5d9119bddc59253b8f",
            "_model_module": "@jupyter-widgets/controls",
            "children": [
              "IPY_MODEL_a93c7d07aa0340c18ed7b0f4e693ef54",
              "IPY_MODEL_089c83233ae443a596895894287bb094"
            ]
          }
        },
        "bf1d7fcb149d4b5d9119bddc59253b8f": {
          "model_module": "@jupyter-widgets/base",
          "model_name": "LayoutModel",
          "model_module_version": "1.2.0",
          "state": {
            "_view_name": "LayoutView",
            "grid_template_rows": null,
            "right": null,
            "justify_content": null,
            "_view_module": "@jupyter-widgets/base",
            "overflow": null,
            "_model_module_version": "1.2.0",
            "_view_count": null,
            "flex_flow": null,
            "width": null,
            "min_width": null,
            "border": null,
            "align_items": null,
            "bottom": null,
            "_model_module": "@jupyter-widgets/base",
            "top": null,
            "grid_column": null,
            "overflow_y": null,
            "overflow_x": null,
            "grid_auto_flow": null,
            "grid_area": null,
            "grid_template_columns": null,
            "flex": null,
            "_model_name": "LayoutModel",
            "justify_items": null,
            "grid_row": null,
            "max_height": null,
            "align_content": null,
            "visibility": null,
            "align_self": null,
            "height": null,
            "min_height": null,
            "padding": null,
            "grid_auto_rows": null,
            "grid_gap": null,
            "max_width": null,
            "order": null,
            "_view_module_version": "1.2.0",
            "grid_template_areas": null,
            "object_position": null,
            "object_fit": null,
            "grid_auto_columns": null,
            "margin": null,
            "display": null,
            "left": null
          }
        },
        "a93c7d07aa0340c18ed7b0f4e693ef54": {
          "model_module": "@jupyter-widgets/controls",
          "model_name": "FloatProgressModel",
          "model_module_version": "1.5.0",
          "state": {
            "_view_name": "ProgressView",
            "style": "IPY_MODEL_2644e7748d7c4dd48afec38a90267eee",
            "_dom_classes": [],
            "description": "",
            "_model_name": "FloatProgressModel",
            "bar_style": "success",
            "max": 1,
            "_view_module": "@jupyter-widgets/controls",
            "_model_module_version": "1.5.0",
            "value": 1,
            "_view_count": null,
            "_view_module_version": "1.5.0",
            "orientation": "horizontal",
            "min": 0,
            "description_tooltip": null,
            "_model_module": "@jupyter-widgets/controls",
            "layout": "IPY_MODEL_1f3042993c6e4b9194a98b40886f95cf"
          }
        },
        "089c83233ae443a596895894287bb094": {
          "model_module": "@jupyter-widgets/controls",
          "model_name": "HTMLModel",
          "model_module_version": "1.5.0",
          "state": {
            "_view_name": "HTMLView",
            "style": "IPY_MODEL_bc7cb970a8734322969dfc10978d950d",
            "_dom_classes": [],
            "description": "",
            "_model_name": "HTMLModel",
            "placeholder": "​",
            "_view_module": "@jupyter-widgets/controls",
            "_model_module_version": "1.5.0",
            "value": " 100000/? [00:00&lt;00:00, 617520.47it/s]",
            "_view_count": null,
            "_view_module_version": "1.5.0",
            "description_tooltip": null,
            "_model_module": "@jupyter-widgets/controls",
            "layout": "IPY_MODEL_3cf859f0d21545489d643ce1beb013d2"
          }
        },
        "2644e7748d7c4dd48afec38a90267eee": {
          "model_module": "@jupyter-widgets/controls",
          "model_name": "ProgressStyleModel",
          "model_module_version": "1.5.0",
          "state": {
            "_view_name": "StyleView",
            "_model_name": "ProgressStyleModel",
            "description_width": "initial",
            "_view_module": "@jupyter-widgets/base",
            "_model_module_version": "1.5.0",
            "_view_count": null,
            "_view_module_version": "1.2.0",
            "bar_color": null,
            "_model_module": "@jupyter-widgets/controls"
          }
        },
        "1f3042993c6e4b9194a98b40886f95cf": {
          "model_module": "@jupyter-widgets/base",
          "model_name": "LayoutModel",
          "model_module_version": "1.2.0",
          "state": {
            "_view_name": "LayoutView",
            "grid_template_rows": null,
            "right": null,
            "justify_content": null,
            "_view_module": "@jupyter-widgets/base",
            "overflow": null,
            "_model_module_version": "1.2.0",
            "_view_count": null,
            "flex_flow": null,
            "width": null,
            "min_width": null,
            "border": null,
            "align_items": null,
            "bottom": null,
            "_model_module": "@jupyter-widgets/base",
            "top": null,
            "grid_column": null,
            "overflow_y": null,
            "overflow_x": null,
            "grid_auto_flow": null,
            "grid_area": null,
            "grid_template_columns": null,
            "flex": null,
            "_model_name": "LayoutModel",
            "justify_items": null,
            "grid_row": null,
            "max_height": null,
            "align_content": null,
            "visibility": null,
            "align_self": null,
            "height": null,
            "min_height": null,
            "padding": null,
            "grid_auto_rows": null,
            "grid_gap": null,
            "max_width": null,
            "order": null,
            "_view_module_version": "1.2.0",
            "grid_template_areas": null,
            "object_position": null,
            "object_fit": null,
            "grid_auto_columns": null,
            "margin": null,
            "display": null,
            "left": null
          }
        },
        "bc7cb970a8734322969dfc10978d950d": {
          "model_module": "@jupyter-widgets/controls",
          "model_name": "DescriptionStyleModel",
          "model_module_version": "1.5.0",
          "state": {
            "_view_name": "StyleView",
            "_model_name": "DescriptionStyleModel",
            "description_width": "",
            "_view_module": "@jupyter-widgets/base",
            "_model_module_version": "1.5.0",
            "_view_count": null,
            "_view_module_version": "1.2.0",
            "_model_module": "@jupyter-widgets/controls"
          }
        },
        "3cf859f0d21545489d643ce1beb013d2": {
          "model_module": "@jupyter-widgets/base",
          "model_name": "LayoutModel",
          "model_module_version": "1.2.0",
          "state": {
            "_view_name": "LayoutView",
            "grid_template_rows": null,
            "right": null,
            "justify_content": null,
            "_view_module": "@jupyter-widgets/base",
            "overflow": null,
            "_model_module_version": "1.2.0",
            "_view_count": null,
            "flex_flow": null,
            "width": null,
            "min_width": null,
            "border": null,
            "align_items": null,
            "bottom": null,
            "_model_module": "@jupyter-widgets/base",
            "top": null,
            "grid_column": null,
            "overflow_y": null,
            "overflow_x": null,
            "grid_auto_flow": null,
            "grid_area": null,
            "grid_template_columns": null,
            "flex": null,
            "_model_name": "LayoutModel",
            "justify_items": null,
            "grid_row": null,
            "max_height": null,
            "align_content": null,
            "visibility": null,
            "align_self": null,
            "height": null,
            "min_height": null,
            "padding": null,
            "grid_auto_rows": null,
            "grid_gap": null,
            "max_width": null,
            "order": null,
            "_view_module_version": "1.2.0",
            "grid_template_areas": null,
            "object_position": null,
            "object_fit": null,
            "grid_auto_columns": null,
            "margin": null,
            "display": null,
            "left": null
          }
        },
        "43cb883f8f964a479a28ebff6f17002a": {
          "model_module": "@jupyter-widgets/controls",
          "model_name": "HBoxModel",
          "model_module_version": "1.5.0",
          "state": {
            "_view_name": "HBoxView",
            "_dom_classes": [],
            "_model_name": "HBoxModel",
            "_view_module": "@jupyter-widgets/controls",
            "_model_module_version": "1.5.0",
            "_view_count": null,
            "_view_module_version": "1.5.0",
            "box_style": "",
            "layout": "IPY_MODEL_890ba787dfff466f9f3014e9111dd1ed",
            "_model_module": "@jupyter-widgets/controls",
            "children": [
              "IPY_MODEL_34b1d0f90cb44c1ebbb313396695f30c",
              "IPY_MODEL_236ce12eac5f494092d4a0ea4a1b3f0c"
            ]
          }
        },
        "890ba787dfff466f9f3014e9111dd1ed": {
          "model_module": "@jupyter-widgets/base",
          "model_name": "LayoutModel",
          "model_module_version": "1.2.0",
          "state": {
            "_view_name": "LayoutView",
            "grid_template_rows": null,
            "right": null,
            "justify_content": null,
            "_view_module": "@jupyter-widgets/base",
            "overflow": null,
            "_model_module_version": "1.2.0",
            "_view_count": null,
            "flex_flow": null,
            "width": null,
            "min_width": null,
            "border": null,
            "align_items": null,
            "bottom": null,
            "_model_module": "@jupyter-widgets/base",
            "top": null,
            "grid_column": null,
            "overflow_y": null,
            "overflow_x": null,
            "grid_auto_flow": null,
            "grid_area": null,
            "grid_template_columns": null,
            "flex": null,
            "_model_name": "LayoutModel",
            "justify_items": null,
            "grid_row": null,
            "max_height": null,
            "align_content": null,
            "visibility": null,
            "align_self": null,
            "height": null,
            "min_height": null,
            "padding": null,
            "grid_auto_rows": null,
            "grid_gap": null,
            "max_width": null,
            "order": null,
            "_view_module_version": "1.2.0",
            "grid_template_areas": null,
            "object_position": null,
            "object_fit": null,
            "grid_auto_columns": null,
            "margin": null,
            "display": null,
            "left": null
          }
        },
        "34b1d0f90cb44c1ebbb313396695f30c": {
          "model_module": "@jupyter-widgets/controls",
          "model_name": "FloatProgressModel",
          "model_module_version": "1.5.0",
          "state": {
            "_view_name": "ProgressView",
            "style": "IPY_MODEL_ea4786c5686246f3bf270776c181f68c",
            "_dom_classes": [],
            "description": "",
            "_model_name": "FloatProgressModel",
            "bar_style": "success",
            "max": 1,
            "_view_module": "@jupyter-widgets/controls",
            "_model_module_version": "1.5.0",
            "value": 1,
            "_view_count": null,
            "_view_module_version": "1.5.0",
            "orientation": "horizontal",
            "min": 0,
            "description_tooltip": null,
            "_model_module": "@jupyter-widgets/controls",
            "layout": "IPY_MODEL_7e7520fde17b4fb6a3ab87a5982b7af8"
          }
        },
        "236ce12eac5f494092d4a0ea4a1b3f0c": {
          "model_module": "@jupyter-widgets/controls",
          "model_name": "HTMLModel",
          "model_module_version": "1.5.0",
          "state": {
            "_view_name": "HTMLView",
            "style": "IPY_MODEL_3abdce5d528c4983af7c2000966d45ac",
            "_dom_classes": [],
            "description": "",
            "_model_name": "HTMLModel",
            "placeholder": "​",
            "_view_module": "@jupyter-widgets/controls",
            "_model_module_version": "1.5.0",
            "value": " 49465/? [00:00&lt;00:00, 192664.41it/s]",
            "_view_count": null,
            "_view_module_version": "1.5.0",
            "description_tooltip": null,
            "_model_module": "@jupyter-widgets/controls",
            "layout": "IPY_MODEL_d3d2d5cf0e254bf1b0d8d0e0aed21723"
          }
        },
        "ea4786c5686246f3bf270776c181f68c": {
          "model_module": "@jupyter-widgets/controls",
          "model_name": "ProgressStyleModel",
          "model_module_version": "1.5.0",
          "state": {
            "_view_name": "StyleView",
            "_model_name": "ProgressStyleModel",
            "description_width": "initial",
            "_view_module": "@jupyter-widgets/base",
            "_model_module_version": "1.5.0",
            "_view_count": null,
            "_view_module_version": "1.2.0",
            "bar_color": null,
            "_model_module": "@jupyter-widgets/controls"
          }
        },
        "7e7520fde17b4fb6a3ab87a5982b7af8": {
          "model_module": "@jupyter-widgets/base",
          "model_name": "LayoutModel",
          "model_module_version": "1.2.0",
          "state": {
            "_view_name": "LayoutView",
            "grid_template_rows": null,
            "right": null,
            "justify_content": null,
            "_view_module": "@jupyter-widgets/base",
            "overflow": null,
            "_model_module_version": "1.2.0",
            "_view_count": null,
            "flex_flow": null,
            "width": null,
            "min_width": null,
            "border": null,
            "align_items": null,
            "bottom": null,
            "_model_module": "@jupyter-widgets/base",
            "top": null,
            "grid_column": null,
            "overflow_y": null,
            "overflow_x": null,
            "grid_auto_flow": null,
            "grid_area": null,
            "grid_template_columns": null,
            "flex": null,
            "_model_name": "LayoutModel",
            "justify_items": null,
            "grid_row": null,
            "max_height": null,
            "align_content": null,
            "visibility": null,
            "align_self": null,
            "height": null,
            "min_height": null,
            "padding": null,
            "grid_auto_rows": null,
            "grid_gap": null,
            "max_width": null,
            "order": null,
            "_view_module_version": "1.2.0",
            "grid_template_areas": null,
            "object_position": null,
            "object_fit": null,
            "grid_auto_columns": null,
            "margin": null,
            "display": null,
            "left": null
          }
        },
        "3abdce5d528c4983af7c2000966d45ac": {
          "model_module": "@jupyter-widgets/controls",
          "model_name": "DescriptionStyleModel",
          "model_module_version": "1.5.0",
          "state": {
            "_view_name": "StyleView",
            "_model_name": "DescriptionStyleModel",
            "description_width": "",
            "_view_module": "@jupyter-widgets/base",
            "_model_module_version": "1.5.0",
            "_view_count": null,
            "_view_module_version": "1.2.0",
            "_model_module": "@jupyter-widgets/controls"
          }
        },
        "d3d2d5cf0e254bf1b0d8d0e0aed21723": {
          "model_module": "@jupyter-widgets/base",
          "model_name": "LayoutModel",
          "model_module_version": "1.2.0",
          "state": {
            "_view_name": "LayoutView",
            "grid_template_rows": null,
            "right": null,
            "justify_content": null,
            "_view_module": "@jupyter-widgets/base",
            "overflow": null,
            "_model_module_version": "1.2.0",
            "_view_count": null,
            "flex_flow": null,
            "width": null,
            "min_width": null,
            "border": null,
            "align_items": null,
            "bottom": null,
            "_model_module": "@jupyter-widgets/base",
            "top": null,
            "grid_column": null,
            "overflow_y": null,
            "overflow_x": null,
            "grid_auto_flow": null,
            "grid_area": null,
            "grid_template_columns": null,
            "flex": null,
            "_model_name": "LayoutModel",
            "justify_items": null,
            "grid_row": null,
            "max_height": null,
            "align_content": null,
            "visibility": null,
            "align_self": null,
            "height": null,
            "min_height": null,
            "padding": null,
            "grid_auto_rows": null,
            "grid_gap": null,
            "max_width": null,
            "order": null,
            "_view_module_version": "1.2.0",
            "grid_template_areas": null,
            "object_position": null,
            "object_fit": null,
            "grid_auto_columns": null,
            "margin": null,
            "display": null,
            "left": null
          }
        },
        "eaa6a1be5431452ab35a3a4b2ed74c42": {
          "model_module": "@jupyter-widgets/controls",
          "model_name": "HBoxModel",
          "model_module_version": "1.5.0",
          "state": {
            "_view_name": "HBoxView",
            "_dom_classes": [],
            "_model_name": "HBoxModel",
            "_view_module": "@jupyter-widgets/controls",
            "_model_module_version": "1.5.0",
            "_view_count": null,
            "_view_module_version": "1.5.0",
            "box_style": "",
            "layout": "IPY_MODEL_a72c40703fa24e63a45b08351a025753",
            "_model_module": "@jupyter-widgets/controls",
            "children": [
              "IPY_MODEL_afbaec15f02d4455b16744f5b25cabd4",
              "IPY_MODEL_96ea2ccb59554bc2ad6a65448c2ad4aa"
            ]
          }
        },
        "a72c40703fa24e63a45b08351a025753": {
          "model_module": "@jupyter-widgets/base",
          "model_name": "LayoutModel",
          "model_module_version": "1.2.0",
          "state": {
            "_view_name": "LayoutView",
            "grid_template_rows": null,
            "right": null,
            "justify_content": null,
            "_view_module": "@jupyter-widgets/base",
            "overflow": null,
            "_model_module_version": "1.2.0",
            "_view_count": null,
            "flex_flow": null,
            "width": null,
            "min_width": null,
            "border": null,
            "align_items": null,
            "bottom": null,
            "_model_module": "@jupyter-widgets/base",
            "top": null,
            "grid_column": null,
            "overflow_y": null,
            "overflow_x": null,
            "grid_auto_flow": null,
            "grid_area": null,
            "grid_template_columns": null,
            "flex": null,
            "_model_name": "LayoutModel",
            "justify_items": null,
            "grid_row": null,
            "max_height": null,
            "align_content": null,
            "visibility": null,
            "align_self": null,
            "height": null,
            "min_height": null,
            "padding": null,
            "grid_auto_rows": null,
            "grid_gap": null,
            "max_width": null,
            "order": null,
            "_view_module_version": "1.2.0",
            "grid_template_areas": null,
            "object_position": null,
            "object_fit": null,
            "grid_auto_columns": null,
            "margin": null,
            "display": null,
            "left": null
          }
        },
        "afbaec15f02d4455b16744f5b25cabd4": {
          "model_module": "@jupyter-widgets/controls",
          "model_name": "FloatProgressModel",
          "model_module_version": "1.5.0",
          "state": {
            "_view_name": "ProgressView",
            "style": "IPY_MODEL_2aa65a8fef6a441e8a5db3d1fb55a8ce",
            "_dom_classes": [],
            "description": "100%",
            "_model_name": "FloatProgressModel",
            "bar_style": "success",
            "max": 100000,
            "_view_module": "@jupyter-widgets/controls",
            "_model_module_version": "1.5.0",
            "value": 100000,
            "_view_count": null,
            "_view_module_version": "1.5.0",
            "orientation": "horizontal",
            "min": 0,
            "description_tooltip": null,
            "_model_module": "@jupyter-widgets/controls",
            "layout": "IPY_MODEL_14d5d9beeb4f42bab981fdf0d143e6d6"
          }
        },
        "96ea2ccb59554bc2ad6a65448c2ad4aa": {
          "model_module": "@jupyter-widgets/controls",
          "model_name": "HTMLModel",
          "model_module_version": "1.5.0",
          "state": {
            "_view_name": "HTMLView",
            "style": "IPY_MODEL_0dd5cbacf8c64392a79e6db443f19342",
            "_dom_classes": [],
            "description": "",
            "_model_name": "HTMLModel",
            "placeholder": "​",
            "_view_module": "@jupyter-widgets/controls",
            "_model_module_version": "1.5.0",
            "value": " 100000/100000 [00:00&lt;00:00, 636491.99it/s]",
            "_view_count": null,
            "_view_module_version": "1.5.0",
            "description_tooltip": null,
            "_model_module": "@jupyter-widgets/controls",
            "layout": "IPY_MODEL_15e689d3bc1f45cfb057d57e74ef17f7"
          }
        },
        "2aa65a8fef6a441e8a5db3d1fb55a8ce": {
          "model_module": "@jupyter-widgets/controls",
          "model_name": "ProgressStyleModel",
          "model_module_version": "1.5.0",
          "state": {
            "_view_name": "StyleView",
            "_model_name": "ProgressStyleModel",
            "description_width": "initial",
            "_view_module": "@jupyter-widgets/base",
            "_model_module_version": "1.5.0",
            "_view_count": null,
            "_view_module_version": "1.2.0",
            "bar_color": null,
            "_model_module": "@jupyter-widgets/controls"
          }
        },
        "14d5d9beeb4f42bab981fdf0d143e6d6": {
          "model_module": "@jupyter-widgets/base",
          "model_name": "LayoutModel",
          "model_module_version": "1.2.0",
          "state": {
            "_view_name": "LayoutView",
            "grid_template_rows": null,
            "right": null,
            "justify_content": null,
            "_view_module": "@jupyter-widgets/base",
            "overflow": null,
            "_model_module_version": "1.2.0",
            "_view_count": null,
            "flex_flow": null,
            "width": null,
            "min_width": null,
            "border": null,
            "align_items": null,
            "bottom": null,
            "_model_module": "@jupyter-widgets/base",
            "top": null,
            "grid_column": null,
            "overflow_y": null,
            "overflow_x": null,
            "grid_auto_flow": null,
            "grid_area": null,
            "grid_template_columns": null,
            "flex": null,
            "_model_name": "LayoutModel",
            "justify_items": null,
            "grid_row": null,
            "max_height": null,
            "align_content": null,
            "visibility": null,
            "align_self": null,
            "height": null,
            "min_height": null,
            "padding": null,
            "grid_auto_rows": null,
            "grid_gap": null,
            "max_width": null,
            "order": null,
            "_view_module_version": "1.2.0",
            "grid_template_areas": null,
            "object_position": null,
            "object_fit": null,
            "grid_auto_columns": null,
            "margin": null,
            "display": null,
            "left": null
          }
        },
        "0dd5cbacf8c64392a79e6db443f19342": {
          "model_module": "@jupyter-widgets/controls",
          "model_name": "DescriptionStyleModel",
          "model_module_version": "1.5.0",
          "state": {
            "_view_name": "StyleView",
            "_model_name": "DescriptionStyleModel",
            "description_width": "",
            "_view_module": "@jupyter-widgets/base",
            "_model_module_version": "1.5.0",
            "_view_count": null,
            "_view_module_version": "1.2.0",
            "_model_module": "@jupyter-widgets/controls"
          }
        },
        "15e689d3bc1f45cfb057d57e74ef17f7": {
          "model_module": "@jupyter-widgets/base",
          "model_name": "LayoutModel",
          "model_module_version": "1.2.0",
          "state": {
            "_view_name": "LayoutView",
            "grid_template_rows": null,
            "right": null,
            "justify_content": null,
            "_view_module": "@jupyter-widgets/base",
            "overflow": null,
            "_model_module_version": "1.2.0",
            "_view_count": null,
            "flex_flow": null,
            "width": null,
            "min_width": null,
            "border": null,
            "align_items": null,
            "bottom": null,
            "_model_module": "@jupyter-widgets/base",
            "top": null,
            "grid_column": null,
            "overflow_y": null,
            "overflow_x": null,
            "grid_auto_flow": null,
            "grid_area": null,
            "grid_template_columns": null,
            "flex": null,
            "_model_name": "LayoutModel",
            "justify_items": null,
            "grid_row": null,
            "max_height": null,
            "align_content": null,
            "visibility": null,
            "align_self": null,
            "height": null,
            "min_height": null,
            "padding": null,
            "grid_auto_rows": null,
            "grid_gap": null,
            "max_width": null,
            "order": null,
            "_view_module_version": "1.2.0",
            "grid_template_areas": null,
            "object_position": null,
            "object_fit": null,
            "grid_auto_columns": null,
            "margin": null,
            "display": null,
            "left": null
          }
        },
        "939325e7c7cc468d9f68f3a50818b245": {
          "model_module": "@jupyter-widgets/controls",
          "model_name": "HBoxModel",
          "model_module_version": "1.5.0",
          "state": {
            "_view_name": "HBoxView",
            "_dom_classes": [],
            "_model_name": "HBoxModel",
            "_view_module": "@jupyter-widgets/controls",
            "_model_module_version": "1.5.0",
            "_view_count": null,
            "_view_module_version": "1.5.0",
            "box_style": "",
            "layout": "IPY_MODEL_b4da355969f84f22ad81a572ae9c4db8",
            "_model_module": "@jupyter-widgets/controls",
            "children": [
              "IPY_MODEL_e0dc765b9f474db28735a2a5753ac218",
              "IPY_MODEL_a6ed9a971b0e4f0698438c6876ea2987"
            ]
          }
        },
        "b4da355969f84f22ad81a572ae9c4db8": {
          "model_module": "@jupyter-widgets/base",
          "model_name": "LayoutModel",
          "model_module_version": "1.2.0",
          "state": {
            "_view_name": "LayoutView",
            "grid_template_rows": null,
            "right": null,
            "justify_content": null,
            "_view_module": "@jupyter-widgets/base",
            "overflow": null,
            "_model_module_version": "1.2.0",
            "_view_count": null,
            "flex_flow": null,
            "width": null,
            "min_width": null,
            "border": null,
            "align_items": null,
            "bottom": null,
            "_model_module": "@jupyter-widgets/base",
            "top": null,
            "grid_column": null,
            "overflow_y": null,
            "overflow_x": null,
            "grid_auto_flow": null,
            "grid_area": null,
            "grid_template_columns": null,
            "flex": null,
            "_model_name": "LayoutModel",
            "justify_items": null,
            "grid_row": null,
            "max_height": null,
            "align_content": null,
            "visibility": null,
            "align_self": null,
            "height": null,
            "min_height": null,
            "padding": null,
            "grid_auto_rows": null,
            "grid_gap": null,
            "max_width": null,
            "order": null,
            "_view_module_version": "1.2.0",
            "grid_template_areas": null,
            "object_position": null,
            "object_fit": null,
            "grid_auto_columns": null,
            "margin": null,
            "display": null,
            "left": null
          }
        },
        "e0dc765b9f474db28735a2a5753ac218": {
          "model_module": "@jupyter-widgets/controls",
          "model_name": "FloatProgressModel",
          "model_module_version": "1.5.0",
          "state": {
            "_view_name": "ProgressView",
            "style": "IPY_MODEL_c9a9f901c1be4700b9a6026d0e5e879b",
            "_dom_classes": [],
            "description": "100%",
            "_model_name": "FloatProgressModel",
            "bar_style": "success",
            "max": 49465,
            "_view_module": "@jupyter-widgets/controls",
            "_model_module_version": "1.5.0",
            "value": 49465,
            "_view_count": null,
            "_view_module_version": "1.5.0",
            "orientation": "horizontal",
            "min": 0,
            "description_tooltip": null,
            "_model_module": "@jupyter-widgets/controls",
            "layout": "IPY_MODEL_cac43694adc54f6aab495e027a978cd7"
          }
        },
        "a6ed9a971b0e4f0698438c6876ea2987": {
          "model_module": "@jupyter-widgets/controls",
          "model_name": "HTMLModel",
          "model_module_version": "1.5.0",
          "state": {
            "_view_name": "HTMLView",
            "style": "IPY_MODEL_ee7890d337be4586aa25f5951d8985ca",
            "_dom_classes": [],
            "description": "",
            "_model_name": "HTMLModel",
            "placeholder": "​",
            "_view_module": "@jupyter-widgets/controls",
            "_model_module_version": "1.5.0",
            "value": " 49465/49465 [02:40&lt;00:00, 307.71it/s]",
            "_view_count": null,
            "_view_module_version": "1.5.0",
            "description_tooltip": null,
            "_model_module": "@jupyter-widgets/controls",
            "layout": "IPY_MODEL_482ed4c489984018ab8fe63397e79eff"
          }
        },
        "c9a9f901c1be4700b9a6026d0e5e879b": {
          "model_module": "@jupyter-widgets/controls",
          "model_name": "ProgressStyleModel",
          "model_module_version": "1.5.0",
          "state": {
            "_view_name": "StyleView",
            "_model_name": "ProgressStyleModel",
            "description_width": "initial",
            "_view_module": "@jupyter-widgets/base",
            "_model_module_version": "1.5.0",
            "_view_count": null,
            "_view_module_version": "1.2.0",
            "bar_color": null,
            "_model_module": "@jupyter-widgets/controls"
          }
        },
        "cac43694adc54f6aab495e027a978cd7": {
          "model_module": "@jupyter-widgets/base",
          "model_name": "LayoutModel",
          "model_module_version": "1.2.0",
          "state": {
            "_view_name": "LayoutView",
            "grid_template_rows": null,
            "right": null,
            "justify_content": null,
            "_view_module": "@jupyter-widgets/base",
            "overflow": null,
            "_model_module_version": "1.2.0",
            "_view_count": null,
            "flex_flow": null,
            "width": null,
            "min_width": null,
            "border": null,
            "align_items": null,
            "bottom": null,
            "_model_module": "@jupyter-widgets/base",
            "top": null,
            "grid_column": null,
            "overflow_y": null,
            "overflow_x": null,
            "grid_auto_flow": null,
            "grid_area": null,
            "grid_template_columns": null,
            "flex": null,
            "_model_name": "LayoutModel",
            "justify_items": null,
            "grid_row": null,
            "max_height": null,
            "align_content": null,
            "visibility": null,
            "align_self": null,
            "height": null,
            "min_height": null,
            "padding": null,
            "grid_auto_rows": null,
            "grid_gap": null,
            "max_width": null,
            "order": null,
            "_view_module_version": "1.2.0",
            "grid_template_areas": null,
            "object_position": null,
            "object_fit": null,
            "grid_auto_columns": null,
            "margin": null,
            "display": null,
            "left": null
          }
        },
        "ee7890d337be4586aa25f5951d8985ca": {
          "model_module": "@jupyter-widgets/controls",
          "model_name": "DescriptionStyleModel",
          "model_module_version": "1.5.0",
          "state": {
            "_view_name": "StyleView",
            "_model_name": "DescriptionStyleModel",
            "description_width": "",
            "_view_module": "@jupyter-widgets/base",
            "_model_module_version": "1.5.0",
            "_view_count": null,
            "_view_module_version": "1.2.0",
            "_model_module": "@jupyter-widgets/controls"
          }
        },
        "482ed4c489984018ab8fe63397e79eff": {
          "model_module": "@jupyter-widgets/base",
          "model_name": "LayoutModel",
          "model_module_version": "1.2.0",
          "state": {
            "_view_name": "LayoutView",
            "grid_template_rows": null,
            "right": null,
            "justify_content": null,
            "_view_module": "@jupyter-widgets/base",
            "overflow": null,
            "_model_module_version": "1.2.0",
            "_view_count": null,
            "flex_flow": null,
            "width": null,
            "min_width": null,
            "border": null,
            "align_items": null,
            "bottom": null,
            "_model_module": "@jupyter-widgets/base",
            "top": null,
            "grid_column": null,
            "overflow_y": null,
            "overflow_x": null,
            "grid_auto_flow": null,
            "grid_area": null,
            "grid_template_columns": null,
            "flex": null,
            "_model_name": "LayoutModel",
            "justify_items": null,
            "grid_row": null,
            "max_height": null,
            "align_content": null,
            "visibility": null,
            "align_self": null,
            "height": null,
            "min_height": null,
            "padding": null,
            "grid_auto_rows": null,
            "grid_gap": null,
            "max_width": null,
            "order": null,
            "_view_module_version": "1.2.0",
            "grid_template_areas": null,
            "object_position": null,
            "object_fit": null,
            "grid_auto_columns": null,
            "margin": null,
            "display": null,
            "left": null
          }
        },
        "e95dc719864d4f889016adaa5ffde8da": {
          "model_module": "@jupyter-widgets/controls",
          "model_name": "HBoxModel",
          "model_module_version": "1.5.0",
          "state": {
            "_view_name": "HBoxView",
            "_dom_classes": [],
            "_model_name": "HBoxModel",
            "_view_module": "@jupyter-widgets/controls",
            "_model_module_version": "1.5.0",
            "_view_count": null,
            "_view_module_version": "1.5.0",
            "box_style": "",
            "layout": "IPY_MODEL_a24e1689c1fc4cb98e1026769e6a209e",
            "_model_module": "@jupyter-widgets/controls",
            "children": [
              "IPY_MODEL_24ad70fe14724e2f85f7506917ed76c6",
              "IPY_MODEL_ac58c4b7fa654f16b56eedd8ec8c2dbe"
            ]
          }
        },
        "a24e1689c1fc4cb98e1026769e6a209e": {
          "model_module": "@jupyter-widgets/base",
          "model_name": "LayoutModel",
          "model_module_version": "1.2.0",
          "state": {
            "_view_name": "LayoutView",
            "grid_template_rows": null,
            "right": null,
            "justify_content": null,
            "_view_module": "@jupyter-widgets/base",
            "overflow": null,
            "_model_module_version": "1.2.0",
            "_view_count": null,
            "flex_flow": null,
            "width": null,
            "min_width": null,
            "border": null,
            "align_items": null,
            "bottom": null,
            "_model_module": "@jupyter-widgets/base",
            "top": null,
            "grid_column": null,
            "overflow_y": null,
            "overflow_x": null,
            "grid_auto_flow": null,
            "grid_area": null,
            "grid_template_columns": null,
            "flex": null,
            "_model_name": "LayoutModel",
            "justify_items": null,
            "grid_row": null,
            "max_height": null,
            "align_content": null,
            "visibility": null,
            "align_self": null,
            "height": null,
            "min_height": null,
            "padding": null,
            "grid_auto_rows": null,
            "grid_gap": null,
            "max_width": null,
            "order": null,
            "_view_module_version": "1.2.0",
            "grid_template_areas": null,
            "object_position": null,
            "object_fit": null,
            "grid_auto_columns": null,
            "margin": null,
            "display": null,
            "left": null
          }
        },
        "24ad70fe14724e2f85f7506917ed76c6": {
          "model_module": "@jupyter-widgets/controls",
          "model_name": "FloatProgressModel",
          "model_module_version": "1.5.0",
          "state": {
            "_view_name": "ProgressView",
            "style": "IPY_MODEL_fffb4130b4fd4f77a4ecf811be845dac",
            "_dom_classes": [],
            "description": "100%",
            "_model_name": "FloatProgressModel",
            "bar_style": "success",
            "max": 100000,
            "_view_module": "@jupyter-widgets/controls",
            "_model_module_version": "1.5.0",
            "value": 100000,
            "_view_count": null,
            "_view_module_version": "1.5.0",
            "orientation": "horizontal",
            "min": 0,
            "description_tooltip": null,
            "_model_module": "@jupyter-widgets/controls",
            "layout": "IPY_MODEL_9993f88f01a24d54ad542243253d7d52"
          }
        },
        "ac58c4b7fa654f16b56eedd8ec8c2dbe": {
          "model_module": "@jupyter-widgets/controls",
          "model_name": "HTMLModel",
          "model_module_version": "1.5.0",
          "state": {
            "_view_name": "HTMLView",
            "style": "IPY_MODEL_efa14a26b44742c6b2cf2e4cc8e4e376",
            "_dom_classes": [],
            "description": "",
            "_model_name": "HTMLModel",
            "placeholder": "​",
            "_view_module": "@jupyter-widgets/controls",
            "_model_module_version": "1.5.0",
            "value": " 100000/100000 [00:29&lt;00:00, 3347.15it/s]",
            "_view_count": null,
            "_view_module_version": "1.5.0",
            "description_tooltip": null,
            "_model_module": "@jupyter-widgets/controls",
            "layout": "IPY_MODEL_3ecd701260c34725943a037b9d62195b"
          }
        },
        "fffb4130b4fd4f77a4ecf811be845dac": {
          "model_module": "@jupyter-widgets/controls",
          "model_name": "ProgressStyleModel",
          "model_module_version": "1.5.0",
          "state": {
            "_view_name": "StyleView",
            "_model_name": "ProgressStyleModel",
            "description_width": "initial",
            "_view_module": "@jupyter-widgets/base",
            "_model_module_version": "1.5.0",
            "_view_count": null,
            "_view_module_version": "1.2.0",
            "bar_color": null,
            "_model_module": "@jupyter-widgets/controls"
          }
        },
        "9993f88f01a24d54ad542243253d7d52": {
          "model_module": "@jupyter-widgets/base",
          "model_name": "LayoutModel",
          "model_module_version": "1.2.0",
          "state": {
            "_view_name": "LayoutView",
            "grid_template_rows": null,
            "right": null,
            "justify_content": null,
            "_view_module": "@jupyter-widgets/base",
            "overflow": null,
            "_model_module_version": "1.2.0",
            "_view_count": null,
            "flex_flow": null,
            "width": null,
            "min_width": null,
            "border": null,
            "align_items": null,
            "bottom": null,
            "_model_module": "@jupyter-widgets/base",
            "top": null,
            "grid_column": null,
            "overflow_y": null,
            "overflow_x": null,
            "grid_auto_flow": null,
            "grid_area": null,
            "grid_template_columns": null,
            "flex": null,
            "_model_name": "LayoutModel",
            "justify_items": null,
            "grid_row": null,
            "max_height": null,
            "align_content": null,
            "visibility": null,
            "align_self": null,
            "height": null,
            "min_height": null,
            "padding": null,
            "grid_auto_rows": null,
            "grid_gap": null,
            "max_width": null,
            "order": null,
            "_view_module_version": "1.2.0",
            "grid_template_areas": null,
            "object_position": null,
            "object_fit": null,
            "grid_auto_columns": null,
            "margin": null,
            "display": null,
            "left": null
          }
        },
        "efa14a26b44742c6b2cf2e4cc8e4e376": {
          "model_module": "@jupyter-widgets/controls",
          "model_name": "DescriptionStyleModel",
          "model_module_version": "1.5.0",
          "state": {
            "_view_name": "StyleView",
            "_model_name": "DescriptionStyleModel",
            "description_width": "",
            "_view_module": "@jupyter-widgets/base",
            "_model_module_version": "1.5.0",
            "_view_count": null,
            "_view_module_version": "1.2.0",
            "_model_module": "@jupyter-widgets/controls"
          }
        },
        "3ecd701260c34725943a037b9d62195b": {
          "model_module": "@jupyter-widgets/base",
          "model_name": "LayoutModel",
          "model_module_version": "1.2.0",
          "state": {
            "_view_name": "LayoutView",
            "grid_template_rows": null,
            "right": null,
            "justify_content": null,
            "_view_module": "@jupyter-widgets/base",
            "overflow": null,
            "_model_module_version": "1.2.0",
            "_view_count": null,
            "flex_flow": null,
            "width": null,
            "min_width": null,
            "border": null,
            "align_items": null,
            "bottom": null,
            "_model_module": "@jupyter-widgets/base",
            "top": null,
            "grid_column": null,
            "overflow_y": null,
            "overflow_x": null,
            "grid_auto_flow": null,
            "grid_area": null,
            "grid_template_columns": null,
            "flex": null,
            "_model_name": "LayoutModel",
            "justify_items": null,
            "grid_row": null,
            "max_height": null,
            "align_content": null,
            "visibility": null,
            "align_self": null,
            "height": null,
            "min_height": null,
            "padding": null,
            "grid_auto_rows": null,
            "grid_gap": null,
            "max_width": null,
            "order": null,
            "_view_module_version": "1.2.0",
            "grid_template_areas": null,
            "object_position": null,
            "object_fit": null,
            "grid_auto_columns": null,
            "margin": null,
            "display": null,
            "left": null
          }
        },
        "e487f5254ca94144817040b3f6ae0333": {
          "model_module": "@jupyter-widgets/controls",
          "model_name": "HBoxModel",
          "model_module_version": "1.5.0",
          "state": {
            "_view_name": "HBoxView",
            "_dom_classes": [],
            "_model_name": "HBoxModel",
            "_view_module": "@jupyter-widgets/controls",
            "_model_module_version": "1.5.0",
            "_view_count": null,
            "_view_module_version": "1.5.0",
            "box_style": "",
            "layout": "IPY_MODEL_512b5b122cb54737813642e0f92f53e4",
            "_model_module": "@jupyter-widgets/controls",
            "children": [
              "IPY_MODEL_bd984199917540428d1ae4063e10726a",
              "IPY_MODEL_6f842622d2ce440886f29cd5d8f06a71"
            ]
          }
        },
        "512b5b122cb54737813642e0f92f53e4": {
          "model_module": "@jupyter-widgets/base",
          "model_name": "LayoutModel",
          "model_module_version": "1.2.0",
          "state": {
            "_view_name": "LayoutView",
            "grid_template_rows": null,
            "right": null,
            "justify_content": null,
            "_view_module": "@jupyter-widgets/base",
            "overflow": null,
            "_model_module_version": "1.2.0",
            "_view_count": null,
            "flex_flow": null,
            "width": null,
            "min_width": null,
            "border": null,
            "align_items": null,
            "bottom": null,
            "_model_module": "@jupyter-widgets/base",
            "top": null,
            "grid_column": null,
            "overflow_y": null,
            "overflow_x": null,
            "grid_auto_flow": null,
            "grid_area": null,
            "grid_template_columns": null,
            "flex": null,
            "_model_name": "LayoutModel",
            "justify_items": null,
            "grid_row": null,
            "max_height": null,
            "align_content": null,
            "visibility": null,
            "align_self": null,
            "height": null,
            "min_height": null,
            "padding": null,
            "grid_auto_rows": null,
            "grid_gap": null,
            "max_width": null,
            "order": null,
            "_view_module_version": "1.2.0",
            "grid_template_areas": null,
            "object_position": null,
            "object_fit": null,
            "grid_auto_columns": null,
            "margin": null,
            "display": null,
            "left": null
          }
        },
        "bd984199917540428d1ae4063e10726a": {
          "model_module": "@jupyter-widgets/controls",
          "model_name": "FloatProgressModel",
          "model_module_version": "1.5.0",
          "state": {
            "_view_name": "ProgressView",
            "style": "IPY_MODEL_21bc48a592894e9ebd7ec8b8a50c7167",
            "_dom_classes": [],
            "description": "100%",
            "_model_name": "FloatProgressModel",
            "bar_style": "success",
            "max": 100000,
            "_view_module": "@jupyter-widgets/controls",
            "_model_module_version": "1.5.0",
            "value": 100000,
            "_view_count": null,
            "_view_module_version": "1.5.0",
            "orientation": "horizontal",
            "min": 0,
            "description_tooltip": null,
            "_model_module": "@jupyter-widgets/controls",
            "layout": "IPY_MODEL_f8579a59841a49f5b1c47226769945fd"
          }
        },
        "6f842622d2ce440886f29cd5d8f06a71": {
          "model_module": "@jupyter-widgets/controls",
          "model_name": "HTMLModel",
          "model_module_version": "1.5.0",
          "state": {
            "_view_name": "HTMLView",
            "style": "IPY_MODEL_a035d4afcdc24b939210e54e5b0de1c8",
            "_dom_classes": [],
            "description": "",
            "_model_name": "HTMLModel",
            "placeholder": "​",
            "_view_module": "@jupyter-widgets/controls",
            "_model_module_version": "1.5.0",
            "value": " 100000/100000 [00:35&lt;00:00, 2824.65it/s]",
            "_view_count": null,
            "_view_module_version": "1.5.0",
            "description_tooltip": null,
            "_model_module": "@jupyter-widgets/controls",
            "layout": "IPY_MODEL_b006cc9563174e968a4395545e4a222c"
          }
        },
        "21bc48a592894e9ebd7ec8b8a50c7167": {
          "model_module": "@jupyter-widgets/controls",
          "model_name": "ProgressStyleModel",
          "model_module_version": "1.5.0",
          "state": {
            "_view_name": "StyleView",
            "_model_name": "ProgressStyleModel",
            "description_width": "initial",
            "_view_module": "@jupyter-widgets/base",
            "_model_module_version": "1.5.0",
            "_view_count": null,
            "_view_module_version": "1.2.0",
            "bar_color": null,
            "_model_module": "@jupyter-widgets/controls"
          }
        },
        "f8579a59841a49f5b1c47226769945fd": {
          "model_module": "@jupyter-widgets/base",
          "model_name": "LayoutModel",
          "model_module_version": "1.2.0",
          "state": {
            "_view_name": "LayoutView",
            "grid_template_rows": null,
            "right": null,
            "justify_content": null,
            "_view_module": "@jupyter-widgets/base",
            "overflow": null,
            "_model_module_version": "1.2.0",
            "_view_count": null,
            "flex_flow": null,
            "width": null,
            "min_width": null,
            "border": null,
            "align_items": null,
            "bottom": null,
            "_model_module": "@jupyter-widgets/base",
            "top": null,
            "grid_column": null,
            "overflow_y": null,
            "overflow_x": null,
            "grid_auto_flow": null,
            "grid_area": null,
            "grid_template_columns": null,
            "flex": null,
            "_model_name": "LayoutModel",
            "justify_items": null,
            "grid_row": null,
            "max_height": null,
            "align_content": null,
            "visibility": null,
            "align_self": null,
            "height": null,
            "min_height": null,
            "padding": null,
            "grid_auto_rows": null,
            "grid_gap": null,
            "max_width": null,
            "order": null,
            "_view_module_version": "1.2.0",
            "grid_template_areas": null,
            "object_position": null,
            "object_fit": null,
            "grid_auto_columns": null,
            "margin": null,
            "display": null,
            "left": null
          }
        },
        "a035d4afcdc24b939210e54e5b0de1c8": {
          "model_module": "@jupyter-widgets/controls",
          "model_name": "DescriptionStyleModel",
          "model_module_version": "1.5.0",
          "state": {
            "_view_name": "StyleView",
            "_model_name": "DescriptionStyleModel",
            "description_width": "",
            "_view_module": "@jupyter-widgets/base",
            "_model_module_version": "1.5.0",
            "_view_count": null,
            "_view_module_version": "1.2.0",
            "_model_module": "@jupyter-widgets/controls"
          }
        },
        "b006cc9563174e968a4395545e4a222c": {
          "model_module": "@jupyter-widgets/base",
          "model_name": "LayoutModel",
          "model_module_version": "1.2.0",
          "state": {
            "_view_name": "LayoutView",
            "grid_template_rows": null,
            "right": null,
            "justify_content": null,
            "_view_module": "@jupyter-widgets/base",
            "overflow": null,
            "_model_module_version": "1.2.0",
            "_view_count": null,
            "flex_flow": null,
            "width": null,
            "min_width": null,
            "border": null,
            "align_items": null,
            "bottom": null,
            "_model_module": "@jupyter-widgets/base",
            "top": null,
            "grid_column": null,
            "overflow_y": null,
            "overflow_x": null,
            "grid_auto_flow": null,
            "grid_area": null,
            "grid_template_columns": null,
            "flex": null,
            "_model_name": "LayoutModel",
            "justify_items": null,
            "grid_row": null,
            "max_height": null,
            "align_content": null,
            "visibility": null,
            "align_self": null,
            "height": null,
            "min_height": null,
            "padding": null,
            "grid_auto_rows": null,
            "grid_gap": null,
            "max_width": null,
            "order": null,
            "_view_module_version": "1.2.0",
            "grid_template_areas": null,
            "object_position": null,
            "object_fit": null,
            "grid_auto_columns": null,
            "margin": null,
            "display": null,
            "left": null
          }
        },
        "2aca562a6f884230827c6009154f5807": {
          "model_module": "@jupyter-widgets/controls",
          "model_name": "HBoxModel",
          "model_module_version": "1.5.0",
          "state": {
            "_view_name": "HBoxView",
            "_dom_classes": [],
            "_model_name": "HBoxModel",
            "_view_module": "@jupyter-widgets/controls",
            "_model_module_version": "1.5.0",
            "_view_count": null,
            "_view_module_version": "1.5.0",
            "box_style": "",
            "layout": "IPY_MODEL_86eb0acbfa944c96804bd79795f2164a",
            "_model_module": "@jupyter-widgets/controls",
            "children": [
              "IPY_MODEL_0b33174c52244822be8e1d5ca82c24a9",
              "IPY_MODEL_d4d284bccd964c799cd8f3f3de4bd04b"
            ]
          }
        },
        "86eb0acbfa944c96804bd79795f2164a": {
          "model_module": "@jupyter-widgets/base",
          "model_name": "LayoutModel",
          "model_module_version": "1.2.0",
          "state": {
            "_view_name": "LayoutView",
            "grid_template_rows": null,
            "right": null,
            "justify_content": null,
            "_view_module": "@jupyter-widgets/base",
            "overflow": null,
            "_model_module_version": "1.2.0",
            "_view_count": null,
            "flex_flow": null,
            "width": null,
            "min_width": null,
            "border": null,
            "align_items": null,
            "bottom": null,
            "_model_module": "@jupyter-widgets/base",
            "top": null,
            "grid_column": null,
            "overflow_y": null,
            "overflow_x": null,
            "grid_auto_flow": null,
            "grid_area": null,
            "grid_template_columns": null,
            "flex": null,
            "_model_name": "LayoutModel",
            "justify_items": null,
            "grid_row": null,
            "max_height": null,
            "align_content": null,
            "visibility": null,
            "align_self": null,
            "height": null,
            "min_height": null,
            "padding": null,
            "grid_auto_rows": null,
            "grid_gap": null,
            "max_width": null,
            "order": null,
            "_view_module_version": "1.2.0",
            "grid_template_areas": null,
            "object_position": null,
            "object_fit": null,
            "grid_auto_columns": null,
            "margin": null,
            "display": null,
            "left": null
          }
        },
        "0b33174c52244822be8e1d5ca82c24a9": {
          "model_module": "@jupyter-widgets/controls",
          "model_name": "FloatProgressModel",
          "model_module_version": "1.5.0",
          "state": {
            "_view_name": "ProgressView",
            "style": "IPY_MODEL_42a2acb73bc344319539e6f5777353d1",
            "_dom_classes": [],
            "description": "100%",
            "_model_name": "FloatProgressModel",
            "bar_style": "success",
            "max": 7,
            "_view_module": "@jupyter-widgets/controls",
            "_model_module_version": "1.5.0",
            "value": 7,
            "_view_count": null,
            "_view_module_version": "1.5.0",
            "orientation": "horizontal",
            "min": 0,
            "description_tooltip": null,
            "_model_module": "@jupyter-widgets/controls",
            "layout": "IPY_MODEL_6d956e4fc8074caf82b90e77b157873d"
          }
        },
        "d4d284bccd964c799cd8f3f3de4bd04b": {
          "model_module": "@jupyter-widgets/controls",
          "model_name": "HTMLModel",
          "model_module_version": "1.5.0",
          "state": {
            "_view_name": "HTMLView",
            "style": "IPY_MODEL_20489fd3d6ad460780040e530c0d58b4",
            "_dom_classes": [],
            "description": "",
            "_model_name": "HTMLModel",
            "placeholder": "​",
            "_view_module": "@jupyter-widgets/controls",
            "_model_module_version": "1.5.0",
            "value": " 7/7 [00:47&lt;00:00,  6.86s/it]",
            "_view_count": null,
            "_view_module_version": "1.5.0",
            "description_tooltip": null,
            "_model_module": "@jupyter-widgets/controls",
            "layout": "IPY_MODEL_eaa5802dba7b4e5299bc5109726d4340"
          }
        },
        "42a2acb73bc344319539e6f5777353d1": {
          "model_module": "@jupyter-widgets/controls",
          "model_name": "ProgressStyleModel",
          "model_module_version": "1.5.0",
          "state": {
            "_view_name": "StyleView",
            "_model_name": "ProgressStyleModel",
            "description_width": "initial",
            "_view_module": "@jupyter-widgets/base",
            "_model_module_version": "1.5.0",
            "_view_count": null,
            "_view_module_version": "1.2.0",
            "bar_color": null,
            "_model_module": "@jupyter-widgets/controls"
          }
        },
        "6d956e4fc8074caf82b90e77b157873d": {
          "model_module": "@jupyter-widgets/base",
          "model_name": "LayoutModel",
          "model_module_version": "1.2.0",
          "state": {
            "_view_name": "LayoutView",
            "grid_template_rows": null,
            "right": null,
            "justify_content": null,
            "_view_module": "@jupyter-widgets/base",
            "overflow": null,
            "_model_module_version": "1.2.0",
            "_view_count": null,
            "flex_flow": null,
            "width": null,
            "min_width": null,
            "border": null,
            "align_items": null,
            "bottom": null,
            "_model_module": "@jupyter-widgets/base",
            "top": null,
            "grid_column": null,
            "overflow_y": null,
            "overflow_x": null,
            "grid_auto_flow": null,
            "grid_area": null,
            "grid_template_columns": null,
            "flex": null,
            "_model_name": "LayoutModel",
            "justify_items": null,
            "grid_row": null,
            "max_height": null,
            "align_content": null,
            "visibility": null,
            "align_self": null,
            "height": null,
            "min_height": null,
            "padding": null,
            "grid_auto_rows": null,
            "grid_gap": null,
            "max_width": null,
            "order": null,
            "_view_module_version": "1.2.0",
            "grid_template_areas": null,
            "object_position": null,
            "object_fit": null,
            "grid_auto_columns": null,
            "margin": null,
            "display": null,
            "left": null
          }
        },
        "20489fd3d6ad460780040e530c0d58b4": {
          "model_module": "@jupyter-widgets/controls",
          "model_name": "DescriptionStyleModel",
          "model_module_version": "1.5.0",
          "state": {
            "_view_name": "StyleView",
            "_model_name": "DescriptionStyleModel",
            "description_width": "",
            "_view_module": "@jupyter-widgets/base",
            "_model_module_version": "1.5.0",
            "_view_count": null,
            "_view_module_version": "1.2.0",
            "_model_module": "@jupyter-widgets/controls"
          }
        },
        "eaa5802dba7b4e5299bc5109726d4340": {
          "model_module": "@jupyter-widgets/base",
          "model_name": "LayoutModel",
          "model_module_version": "1.2.0",
          "state": {
            "_view_name": "LayoutView",
            "grid_template_rows": null,
            "right": null,
            "justify_content": null,
            "_view_module": "@jupyter-widgets/base",
            "overflow": null,
            "_model_module_version": "1.2.0",
            "_view_count": null,
            "flex_flow": null,
            "width": null,
            "min_width": null,
            "border": null,
            "align_items": null,
            "bottom": null,
            "_model_module": "@jupyter-widgets/base",
            "top": null,
            "grid_column": null,
            "overflow_y": null,
            "overflow_x": null,
            "grid_auto_flow": null,
            "grid_area": null,
            "grid_template_columns": null,
            "flex": null,
            "_model_name": "LayoutModel",
            "justify_items": null,
            "grid_row": null,
            "max_height": null,
            "align_content": null,
            "visibility": null,
            "align_self": null,
            "height": null,
            "min_height": null,
            "padding": null,
            "grid_auto_rows": null,
            "grid_gap": null,
            "max_width": null,
            "order": null,
            "_view_module_version": "1.2.0",
            "grid_template_areas": null,
            "object_position": null,
            "object_fit": null,
            "grid_auto_columns": null,
            "margin": null,
            "display": null,
            "left": null
          }
        },
        "1e270973f7ba443e9e6b3060a150c9ba": {
          "model_module": "@jupyter-widgets/controls",
          "model_name": "HBoxModel",
          "model_module_version": "1.5.0",
          "state": {
            "_view_name": "HBoxView",
            "_dom_classes": [],
            "_model_name": "HBoxModel",
            "_view_module": "@jupyter-widgets/controls",
            "_model_module_version": "1.5.0",
            "_view_count": null,
            "_view_module_version": "1.5.0",
            "box_style": "",
            "layout": "IPY_MODEL_e39204d6a66b46a0b29fb3897539f700",
            "_model_module": "@jupyter-widgets/controls",
            "children": [
              "IPY_MODEL_65cb898a94cb4b96997ac7a187e7d02b",
              "IPY_MODEL_445d634797e94a5e8ca05cebcc2317cb"
            ]
          }
        },
        "e39204d6a66b46a0b29fb3897539f700": {
          "model_module": "@jupyter-widgets/base",
          "model_name": "LayoutModel",
          "model_module_version": "1.2.0",
          "state": {
            "_view_name": "LayoutView",
            "grid_template_rows": null,
            "right": null,
            "justify_content": null,
            "_view_module": "@jupyter-widgets/base",
            "overflow": null,
            "_model_module_version": "1.2.0",
            "_view_count": null,
            "flex_flow": null,
            "width": null,
            "min_width": null,
            "border": null,
            "align_items": null,
            "bottom": null,
            "_model_module": "@jupyter-widgets/base",
            "top": null,
            "grid_column": null,
            "overflow_y": null,
            "overflow_x": null,
            "grid_auto_flow": null,
            "grid_area": null,
            "grid_template_columns": null,
            "flex": null,
            "_model_name": "LayoutModel",
            "justify_items": null,
            "grid_row": null,
            "max_height": null,
            "align_content": null,
            "visibility": null,
            "align_self": null,
            "height": null,
            "min_height": null,
            "padding": null,
            "grid_auto_rows": null,
            "grid_gap": null,
            "max_width": null,
            "order": null,
            "_view_module_version": "1.2.0",
            "grid_template_areas": null,
            "object_position": null,
            "object_fit": null,
            "grid_auto_columns": null,
            "margin": null,
            "display": null,
            "left": null
          }
        },
        "65cb898a94cb4b96997ac7a187e7d02b": {
          "model_module": "@jupyter-widgets/controls",
          "model_name": "FloatProgressModel",
          "model_module_version": "1.5.0",
          "state": {
            "_view_name": "ProgressView",
            "style": "IPY_MODEL_11900315cb8444e1998adfe7cda979ff",
            "_dom_classes": [],
            "description": "",
            "_model_name": "FloatProgressModel",
            "bar_style": "success",
            "max": 1,
            "_view_module": "@jupyter-widgets/controls",
            "_model_module_version": "1.5.0",
            "value": 1,
            "_view_count": null,
            "_view_module_version": "1.5.0",
            "orientation": "horizontal",
            "min": 0,
            "description_tooltip": null,
            "_model_module": "@jupyter-widgets/controls",
            "layout": "IPY_MODEL_4014227c6384428db04eb1e66d117b74"
          }
        },
        "445d634797e94a5e8ca05cebcc2317cb": {
          "model_module": "@jupyter-widgets/controls",
          "model_name": "HTMLModel",
          "model_module_version": "1.5.0",
          "state": {
            "_view_name": "HTMLView",
            "style": "IPY_MODEL_8f5c872253fe4dfabba4dac275a2d3be",
            "_dom_classes": [],
            "description": "",
            "_model_name": "HTMLModel",
            "placeholder": "​",
            "_view_module": "@jupyter-widgets/controls",
            "_model_module_version": "1.5.0",
            "value": " 100000/? [49:33&lt;00:00, 33.63it/s]",
            "_view_count": null,
            "_view_module_version": "1.5.0",
            "description_tooltip": null,
            "_model_module": "@jupyter-widgets/controls",
            "layout": "IPY_MODEL_51e216f468dc424abc81ec7b70b847d2"
          }
        },
        "11900315cb8444e1998adfe7cda979ff": {
          "model_module": "@jupyter-widgets/controls",
          "model_name": "ProgressStyleModel",
          "model_module_version": "1.5.0",
          "state": {
            "_view_name": "StyleView",
            "_model_name": "ProgressStyleModel",
            "description_width": "initial",
            "_view_module": "@jupyter-widgets/base",
            "_model_module_version": "1.5.0",
            "_view_count": null,
            "_view_module_version": "1.2.0",
            "bar_color": null,
            "_model_module": "@jupyter-widgets/controls"
          }
        },
        "4014227c6384428db04eb1e66d117b74": {
          "model_module": "@jupyter-widgets/base",
          "model_name": "LayoutModel",
          "model_module_version": "1.2.0",
          "state": {
            "_view_name": "LayoutView",
            "grid_template_rows": null,
            "right": null,
            "justify_content": null,
            "_view_module": "@jupyter-widgets/base",
            "overflow": null,
            "_model_module_version": "1.2.0",
            "_view_count": null,
            "flex_flow": null,
            "width": null,
            "min_width": null,
            "border": null,
            "align_items": null,
            "bottom": null,
            "_model_module": "@jupyter-widgets/base",
            "top": null,
            "grid_column": null,
            "overflow_y": null,
            "overflow_x": null,
            "grid_auto_flow": null,
            "grid_area": null,
            "grid_template_columns": null,
            "flex": null,
            "_model_name": "LayoutModel",
            "justify_items": null,
            "grid_row": null,
            "max_height": null,
            "align_content": null,
            "visibility": null,
            "align_self": null,
            "height": null,
            "min_height": null,
            "padding": null,
            "grid_auto_rows": null,
            "grid_gap": null,
            "max_width": null,
            "order": null,
            "_view_module_version": "1.2.0",
            "grid_template_areas": null,
            "object_position": null,
            "object_fit": null,
            "grid_auto_columns": null,
            "margin": null,
            "display": null,
            "left": null
          }
        },
        "8f5c872253fe4dfabba4dac275a2d3be": {
          "model_module": "@jupyter-widgets/controls",
          "model_name": "DescriptionStyleModel",
          "model_module_version": "1.5.0",
          "state": {
            "_view_name": "StyleView",
            "_model_name": "DescriptionStyleModel",
            "description_width": "",
            "_view_module": "@jupyter-widgets/base",
            "_model_module_version": "1.5.0",
            "_view_count": null,
            "_view_module_version": "1.2.0",
            "_model_module": "@jupyter-widgets/controls"
          }
        },
        "51e216f468dc424abc81ec7b70b847d2": {
          "model_module": "@jupyter-widgets/base",
          "model_name": "LayoutModel",
          "model_module_version": "1.2.0",
          "state": {
            "_view_name": "LayoutView",
            "grid_template_rows": null,
            "right": null,
            "justify_content": null,
            "_view_module": "@jupyter-widgets/base",
            "overflow": null,
            "_model_module_version": "1.2.0",
            "_view_count": null,
            "flex_flow": null,
            "width": null,
            "min_width": null,
            "border": null,
            "align_items": null,
            "bottom": null,
            "_model_module": "@jupyter-widgets/base",
            "top": null,
            "grid_column": null,
            "overflow_y": null,
            "overflow_x": null,
            "grid_auto_flow": null,
            "grid_area": null,
            "grid_template_columns": null,
            "flex": null,
            "_model_name": "LayoutModel",
            "justify_items": null,
            "grid_row": null,
            "max_height": null,
            "align_content": null,
            "visibility": null,
            "align_self": null,
            "height": null,
            "min_height": null,
            "padding": null,
            "grid_auto_rows": null,
            "grid_gap": null,
            "max_width": null,
            "order": null,
            "_view_module_version": "1.2.0",
            "grid_template_areas": null,
            "object_position": null,
            "object_fit": null,
            "grid_auto_columns": null,
            "margin": null,
            "display": null,
            "left": null
          }
        },
        "71bc2058960e489c8241888b951f133c": {
          "model_module": "@jupyter-widgets/controls",
          "model_name": "HBoxModel",
          "model_module_version": "1.5.0",
          "state": {
            "_view_name": "HBoxView",
            "_dom_classes": [],
            "_model_name": "HBoxModel",
            "_view_module": "@jupyter-widgets/controls",
            "_model_module_version": "1.5.0",
            "_view_count": null,
            "_view_module_version": "1.5.0",
            "box_style": "",
            "layout": "IPY_MODEL_fec2805471a4430dbc4e3dd82791ce5e",
            "_model_module": "@jupyter-widgets/controls",
            "children": [
              "IPY_MODEL_99c944dec6fb4fedb8dab58246c32232",
              "IPY_MODEL_b7928a3b53774c5e823fe8cc2b43b003"
            ]
          }
        },
        "fec2805471a4430dbc4e3dd82791ce5e": {
          "model_module": "@jupyter-widgets/base",
          "model_name": "LayoutModel",
          "model_module_version": "1.2.0",
          "state": {
            "_view_name": "LayoutView",
            "grid_template_rows": null,
            "right": null,
            "justify_content": null,
            "_view_module": "@jupyter-widgets/base",
            "overflow": null,
            "_model_module_version": "1.2.0",
            "_view_count": null,
            "flex_flow": null,
            "width": null,
            "min_width": null,
            "border": null,
            "align_items": null,
            "bottom": null,
            "_model_module": "@jupyter-widgets/base",
            "top": null,
            "grid_column": null,
            "overflow_y": null,
            "overflow_x": null,
            "grid_auto_flow": null,
            "grid_area": null,
            "grid_template_columns": null,
            "flex": null,
            "_model_name": "LayoutModel",
            "justify_items": null,
            "grid_row": null,
            "max_height": null,
            "align_content": null,
            "visibility": null,
            "align_self": null,
            "height": null,
            "min_height": null,
            "padding": null,
            "grid_auto_rows": null,
            "grid_gap": null,
            "max_width": null,
            "order": null,
            "_view_module_version": "1.2.0",
            "grid_template_areas": null,
            "object_position": null,
            "object_fit": null,
            "grid_auto_columns": null,
            "margin": null,
            "display": null,
            "left": null
          }
        },
        "99c944dec6fb4fedb8dab58246c32232": {
          "model_module": "@jupyter-widgets/controls",
          "model_name": "FloatProgressModel",
          "model_module_version": "1.5.0",
          "state": {
            "_view_name": "ProgressView",
            "style": "IPY_MODEL_b8155d1009f346cebc63e5dca7121859",
            "_dom_classes": [],
            "description": "100%",
            "_model_name": "FloatProgressModel",
            "bar_style": "success",
            "max": 49465,
            "_view_module": "@jupyter-widgets/controls",
            "_model_module_version": "1.5.0",
            "value": 49465,
            "_view_count": null,
            "_view_module_version": "1.5.0",
            "orientation": "horizontal",
            "min": 0,
            "description_tooltip": null,
            "_model_module": "@jupyter-widgets/controls",
            "layout": "IPY_MODEL_afcb81caf42245faa4aa1dff53de6c78"
          }
        },
        "b7928a3b53774c5e823fe8cc2b43b003": {
          "model_module": "@jupyter-widgets/controls",
          "model_name": "HTMLModel",
          "model_module_version": "1.5.0",
          "state": {
            "_view_name": "HTMLView",
            "style": "IPY_MODEL_97f6c12458384535a151deaddcef40ad",
            "_dom_classes": [],
            "description": "",
            "_model_name": "HTMLModel",
            "placeholder": "​",
            "_view_module": "@jupyter-widgets/controls",
            "_model_module_version": "1.5.0",
            "value": " 49465/49465 [00:04&lt;00:00, 10031.58it/s]",
            "_view_count": null,
            "_view_module_version": "1.5.0",
            "description_tooltip": null,
            "_model_module": "@jupyter-widgets/controls",
            "layout": "IPY_MODEL_b4c1293421ff4bdeb8600074a1c33c2f"
          }
        },
        "b8155d1009f346cebc63e5dca7121859": {
          "model_module": "@jupyter-widgets/controls",
          "model_name": "ProgressStyleModel",
          "model_module_version": "1.5.0",
          "state": {
            "_view_name": "StyleView",
            "_model_name": "ProgressStyleModel",
            "description_width": "initial",
            "_view_module": "@jupyter-widgets/base",
            "_model_module_version": "1.5.0",
            "_view_count": null,
            "_view_module_version": "1.2.0",
            "bar_color": null,
            "_model_module": "@jupyter-widgets/controls"
          }
        },
        "afcb81caf42245faa4aa1dff53de6c78": {
          "model_module": "@jupyter-widgets/base",
          "model_name": "LayoutModel",
          "model_module_version": "1.2.0",
          "state": {
            "_view_name": "LayoutView",
            "grid_template_rows": null,
            "right": null,
            "justify_content": null,
            "_view_module": "@jupyter-widgets/base",
            "overflow": null,
            "_model_module_version": "1.2.0",
            "_view_count": null,
            "flex_flow": null,
            "width": null,
            "min_width": null,
            "border": null,
            "align_items": null,
            "bottom": null,
            "_model_module": "@jupyter-widgets/base",
            "top": null,
            "grid_column": null,
            "overflow_y": null,
            "overflow_x": null,
            "grid_auto_flow": null,
            "grid_area": null,
            "grid_template_columns": null,
            "flex": null,
            "_model_name": "LayoutModel",
            "justify_items": null,
            "grid_row": null,
            "max_height": null,
            "align_content": null,
            "visibility": null,
            "align_self": null,
            "height": null,
            "min_height": null,
            "padding": null,
            "grid_auto_rows": null,
            "grid_gap": null,
            "max_width": null,
            "order": null,
            "_view_module_version": "1.2.0",
            "grid_template_areas": null,
            "object_position": null,
            "object_fit": null,
            "grid_auto_columns": null,
            "margin": null,
            "display": null,
            "left": null
          }
        },
        "97f6c12458384535a151deaddcef40ad": {
          "model_module": "@jupyter-widgets/controls",
          "model_name": "DescriptionStyleModel",
          "model_module_version": "1.5.0",
          "state": {
            "_view_name": "StyleView",
            "_model_name": "DescriptionStyleModel",
            "description_width": "",
            "_view_module": "@jupyter-widgets/base",
            "_model_module_version": "1.5.0",
            "_view_count": null,
            "_view_module_version": "1.2.0",
            "_model_module": "@jupyter-widgets/controls"
          }
        },
        "b4c1293421ff4bdeb8600074a1c33c2f": {
          "model_module": "@jupyter-widgets/base",
          "model_name": "LayoutModel",
          "model_module_version": "1.2.0",
          "state": {
            "_view_name": "LayoutView",
            "grid_template_rows": null,
            "right": null,
            "justify_content": null,
            "_view_module": "@jupyter-widgets/base",
            "overflow": null,
            "_model_module_version": "1.2.0",
            "_view_count": null,
            "flex_flow": null,
            "width": null,
            "min_width": null,
            "border": null,
            "align_items": null,
            "bottom": null,
            "_model_module": "@jupyter-widgets/base",
            "top": null,
            "grid_column": null,
            "overflow_y": null,
            "overflow_x": null,
            "grid_auto_flow": null,
            "grid_area": null,
            "grid_template_columns": null,
            "flex": null,
            "_model_name": "LayoutModel",
            "justify_items": null,
            "grid_row": null,
            "max_height": null,
            "align_content": null,
            "visibility": null,
            "align_self": null,
            "height": null,
            "min_height": null,
            "padding": null,
            "grid_auto_rows": null,
            "grid_gap": null,
            "max_width": null,
            "order": null,
            "_view_module_version": "1.2.0",
            "grid_template_areas": null,
            "object_position": null,
            "object_fit": null,
            "grid_auto_columns": null,
            "margin": null,
            "display": null,
            "left": null
          }
        },
        "c0bf9d298a794dc7b2136f6ad7494d1d": {
          "model_module": "@jupyter-widgets/controls",
          "model_name": "HBoxModel",
          "model_module_version": "1.5.0",
          "state": {
            "_view_name": "HBoxView",
            "_dom_classes": [],
            "_model_name": "HBoxModel",
            "_view_module": "@jupyter-widgets/controls",
            "_model_module_version": "1.5.0",
            "_view_count": null,
            "_view_module_version": "1.5.0",
            "box_style": "",
            "layout": "IPY_MODEL_b66498f50aa74f47b38ef787f492c89e",
            "_model_module": "@jupyter-widgets/controls",
            "children": [
              "IPY_MODEL_6da0cc592864404e81466cc26d522baa",
              "IPY_MODEL_9b13be6861d345bf955111358d636f92"
            ]
          }
        },
        "b66498f50aa74f47b38ef787f492c89e": {
          "model_module": "@jupyter-widgets/base",
          "model_name": "LayoutModel",
          "model_module_version": "1.2.0",
          "state": {
            "_view_name": "LayoutView",
            "grid_template_rows": null,
            "right": null,
            "justify_content": null,
            "_view_module": "@jupyter-widgets/base",
            "overflow": null,
            "_model_module_version": "1.2.0",
            "_view_count": null,
            "flex_flow": null,
            "width": null,
            "min_width": null,
            "border": null,
            "align_items": null,
            "bottom": null,
            "_model_module": "@jupyter-widgets/base",
            "top": null,
            "grid_column": null,
            "overflow_y": null,
            "overflow_x": null,
            "grid_auto_flow": null,
            "grid_area": null,
            "grid_template_columns": null,
            "flex": null,
            "_model_name": "LayoutModel",
            "justify_items": null,
            "grid_row": null,
            "max_height": null,
            "align_content": null,
            "visibility": null,
            "align_self": null,
            "height": null,
            "min_height": null,
            "padding": null,
            "grid_auto_rows": null,
            "grid_gap": null,
            "max_width": null,
            "order": null,
            "_view_module_version": "1.2.0",
            "grid_template_areas": null,
            "object_position": null,
            "object_fit": null,
            "grid_auto_columns": null,
            "margin": null,
            "display": null,
            "left": null
          }
        },
        "6da0cc592864404e81466cc26d522baa": {
          "model_module": "@jupyter-widgets/controls",
          "model_name": "FloatProgressModel",
          "model_module_version": "1.5.0",
          "state": {
            "_view_name": "ProgressView",
            "style": "IPY_MODEL_36fc1a1068ec40d59ebfa018b35fac2f",
            "_dom_classes": [],
            "description": "",
            "_model_name": "FloatProgressModel",
            "bar_style": "success",
            "max": 1,
            "_view_module": "@jupyter-widgets/controls",
            "_model_module_version": "1.5.0",
            "value": 1,
            "_view_count": null,
            "_view_module_version": "1.5.0",
            "orientation": "horizontal",
            "min": 0,
            "description_tooltip": null,
            "_model_module": "@jupyter-widgets/controls",
            "layout": "IPY_MODEL_6f51e445815c4ea3bfef592829f1077c"
          }
        },
        "9b13be6861d345bf955111358d636f92": {
          "model_module": "@jupyter-widgets/controls",
          "model_name": "HTMLModel",
          "model_module_version": "1.5.0",
          "state": {
            "_view_name": "HTMLView",
            "style": "IPY_MODEL_e915fcb9fcaf492095b4c52e11ad11fb",
            "_dom_classes": [],
            "description": "",
            "_model_name": "HTMLModel",
            "placeholder": "​",
            "_view_module": "@jupyter-widgets/controls",
            "_model_module_version": "1.5.0",
            "value": " 100000/? [14:43&lt;00:00, 113.18it/s]",
            "_view_count": null,
            "_view_module_version": "1.5.0",
            "description_tooltip": null,
            "_model_module": "@jupyter-widgets/controls",
            "layout": "IPY_MODEL_c98a58609e6a4d079c217237dc9a0876"
          }
        },
        "36fc1a1068ec40d59ebfa018b35fac2f": {
          "model_module": "@jupyter-widgets/controls",
          "model_name": "ProgressStyleModel",
          "model_module_version": "1.5.0",
          "state": {
            "_view_name": "StyleView",
            "_model_name": "ProgressStyleModel",
            "description_width": "initial",
            "_view_module": "@jupyter-widgets/base",
            "_model_module_version": "1.5.0",
            "_view_count": null,
            "_view_module_version": "1.2.0",
            "bar_color": null,
            "_model_module": "@jupyter-widgets/controls"
          }
        },
        "6f51e445815c4ea3bfef592829f1077c": {
          "model_module": "@jupyter-widgets/base",
          "model_name": "LayoutModel",
          "model_module_version": "1.2.0",
          "state": {
            "_view_name": "LayoutView",
            "grid_template_rows": null,
            "right": null,
            "justify_content": null,
            "_view_module": "@jupyter-widgets/base",
            "overflow": null,
            "_model_module_version": "1.2.0",
            "_view_count": null,
            "flex_flow": null,
            "width": null,
            "min_width": null,
            "border": null,
            "align_items": null,
            "bottom": null,
            "_model_module": "@jupyter-widgets/base",
            "top": null,
            "grid_column": null,
            "overflow_y": null,
            "overflow_x": null,
            "grid_auto_flow": null,
            "grid_area": null,
            "grid_template_columns": null,
            "flex": null,
            "_model_name": "LayoutModel",
            "justify_items": null,
            "grid_row": null,
            "max_height": null,
            "align_content": null,
            "visibility": null,
            "align_self": null,
            "height": null,
            "min_height": null,
            "padding": null,
            "grid_auto_rows": null,
            "grid_gap": null,
            "max_width": null,
            "order": null,
            "_view_module_version": "1.2.0",
            "grid_template_areas": null,
            "object_position": null,
            "object_fit": null,
            "grid_auto_columns": null,
            "margin": null,
            "display": null,
            "left": null
          }
        },
        "e915fcb9fcaf492095b4c52e11ad11fb": {
          "model_module": "@jupyter-widgets/controls",
          "model_name": "DescriptionStyleModel",
          "model_module_version": "1.5.0",
          "state": {
            "_view_name": "StyleView",
            "_model_name": "DescriptionStyleModel",
            "description_width": "",
            "_view_module": "@jupyter-widgets/base",
            "_model_module_version": "1.5.0",
            "_view_count": null,
            "_view_module_version": "1.2.0",
            "_model_module": "@jupyter-widgets/controls"
          }
        },
        "c98a58609e6a4d079c217237dc9a0876": {
          "model_module": "@jupyter-widgets/base",
          "model_name": "LayoutModel",
          "model_module_version": "1.2.0",
          "state": {
            "_view_name": "LayoutView",
            "grid_template_rows": null,
            "right": null,
            "justify_content": null,
            "_view_module": "@jupyter-widgets/base",
            "overflow": null,
            "_model_module_version": "1.2.0",
            "_view_count": null,
            "flex_flow": null,
            "width": null,
            "min_width": null,
            "border": null,
            "align_items": null,
            "bottom": null,
            "_model_module": "@jupyter-widgets/base",
            "top": null,
            "grid_column": null,
            "overflow_y": null,
            "overflow_x": null,
            "grid_auto_flow": null,
            "grid_area": null,
            "grid_template_columns": null,
            "flex": null,
            "_model_name": "LayoutModel",
            "justify_items": null,
            "grid_row": null,
            "max_height": null,
            "align_content": null,
            "visibility": null,
            "align_self": null,
            "height": null,
            "min_height": null,
            "padding": null,
            "grid_auto_rows": null,
            "grid_gap": null,
            "max_width": null,
            "order": null,
            "_view_module_version": "1.2.0",
            "grid_template_areas": null,
            "object_position": null,
            "object_fit": null,
            "grid_auto_columns": null,
            "margin": null,
            "display": null,
            "left": null
          }
        },
        "27329557f7bb4883b8988352c5398bd6": {
          "model_module": "@jupyter-widgets/controls",
          "model_name": "HBoxModel",
          "model_module_version": "1.5.0",
          "state": {
            "_view_name": "HBoxView",
            "_dom_classes": [],
            "_model_name": "HBoxModel",
            "_view_module": "@jupyter-widgets/controls",
            "_model_module_version": "1.5.0",
            "_view_count": null,
            "_view_module_version": "1.5.0",
            "box_style": "",
            "layout": "IPY_MODEL_617bb61efe8147ffba0a93ca7052aeb3",
            "_model_module": "@jupyter-widgets/controls",
            "children": [
              "IPY_MODEL_cd61784b1dbd4dfb94fca8282ffb2ba8",
              "IPY_MODEL_a3457485247440abbd61004113c8b53c"
            ]
          }
        },
        "617bb61efe8147ffba0a93ca7052aeb3": {
          "model_module": "@jupyter-widgets/base",
          "model_name": "LayoutModel",
          "model_module_version": "1.2.0",
          "state": {
            "_view_name": "LayoutView",
            "grid_template_rows": null,
            "right": null,
            "justify_content": null,
            "_view_module": "@jupyter-widgets/base",
            "overflow": null,
            "_model_module_version": "1.2.0",
            "_view_count": null,
            "flex_flow": null,
            "width": null,
            "min_width": null,
            "border": null,
            "align_items": null,
            "bottom": null,
            "_model_module": "@jupyter-widgets/base",
            "top": null,
            "grid_column": null,
            "overflow_y": null,
            "overflow_x": null,
            "grid_auto_flow": null,
            "grid_area": null,
            "grid_template_columns": null,
            "flex": null,
            "_model_name": "LayoutModel",
            "justify_items": null,
            "grid_row": null,
            "max_height": null,
            "align_content": null,
            "visibility": null,
            "align_self": null,
            "height": null,
            "min_height": null,
            "padding": null,
            "grid_auto_rows": null,
            "grid_gap": null,
            "max_width": null,
            "order": null,
            "_view_module_version": "1.2.0",
            "grid_template_areas": null,
            "object_position": null,
            "object_fit": null,
            "grid_auto_columns": null,
            "margin": null,
            "display": null,
            "left": null
          }
        },
        "cd61784b1dbd4dfb94fca8282ffb2ba8": {
          "model_module": "@jupyter-widgets/controls",
          "model_name": "FloatProgressModel",
          "model_module_version": "1.5.0",
          "state": {
            "_view_name": "ProgressView",
            "style": "IPY_MODEL_db9a6d61b0d5436cac137bf9638dee25",
            "_dom_classes": [],
            "description": "",
            "_model_name": "FloatProgressModel",
            "bar_style": "success",
            "max": 1,
            "_view_module": "@jupyter-widgets/controls",
            "_model_module_version": "1.5.0",
            "value": 1,
            "_view_count": null,
            "_view_module_version": "1.5.0",
            "orientation": "horizontal",
            "min": 0,
            "description_tooltip": null,
            "_model_module": "@jupyter-widgets/controls",
            "layout": "IPY_MODEL_4863d1deca3b4095b0c671809a1fcf06"
          }
        },
        "a3457485247440abbd61004113c8b53c": {
          "model_module": "@jupyter-widgets/controls",
          "model_name": "HTMLModel",
          "model_module_version": "1.5.0",
          "state": {
            "_view_name": "HTMLView",
            "style": "IPY_MODEL_ec8e68b672074ed4ab8f6e375a44af2b",
            "_dom_classes": [],
            "description": "",
            "_model_name": "HTMLModel",
            "placeholder": "​",
            "_view_module": "@jupyter-widgets/controls",
            "_model_module_version": "1.5.0",
            "value": " 100000/? [2:11:39&lt;00:00, 12.66it/s]",
            "_view_count": null,
            "_view_module_version": "1.5.0",
            "description_tooltip": null,
            "_model_module": "@jupyter-widgets/controls",
            "layout": "IPY_MODEL_3c2a680f985e4e958913166115ffac38"
          }
        },
        "db9a6d61b0d5436cac137bf9638dee25": {
          "model_module": "@jupyter-widgets/controls",
          "model_name": "ProgressStyleModel",
          "model_module_version": "1.5.0",
          "state": {
            "_view_name": "StyleView",
            "_model_name": "ProgressStyleModel",
            "description_width": "initial",
            "_view_module": "@jupyter-widgets/base",
            "_model_module_version": "1.5.0",
            "_view_count": null,
            "_view_module_version": "1.2.0",
            "bar_color": null,
            "_model_module": "@jupyter-widgets/controls"
          }
        },
        "4863d1deca3b4095b0c671809a1fcf06": {
          "model_module": "@jupyter-widgets/base",
          "model_name": "LayoutModel",
          "model_module_version": "1.2.0",
          "state": {
            "_view_name": "LayoutView",
            "grid_template_rows": null,
            "right": null,
            "justify_content": null,
            "_view_module": "@jupyter-widgets/base",
            "overflow": null,
            "_model_module_version": "1.2.0",
            "_view_count": null,
            "flex_flow": null,
            "width": null,
            "min_width": null,
            "border": null,
            "align_items": null,
            "bottom": null,
            "_model_module": "@jupyter-widgets/base",
            "top": null,
            "grid_column": null,
            "overflow_y": null,
            "overflow_x": null,
            "grid_auto_flow": null,
            "grid_area": null,
            "grid_template_columns": null,
            "flex": null,
            "_model_name": "LayoutModel",
            "justify_items": null,
            "grid_row": null,
            "max_height": null,
            "align_content": null,
            "visibility": null,
            "align_self": null,
            "height": null,
            "min_height": null,
            "padding": null,
            "grid_auto_rows": null,
            "grid_gap": null,
            "max_width": null,
            "order": null,
            "_view_module_version": "1.2.0",
            "grid_template_areas": null,
            "object_position": null,
            "object_fit": null,
            "grid_auto_columns": null,
            "margin": null,
            "display": null,
            "left": null
          }
        },
        "ec8e68b672074ed4ab8f6e375a44af2b": {
          "model_module": "@jupyter-widgets/controls",
          "model_name": "DescriptionStyleModel",
          "model_module_version": "1.5.0",
          "state": {
            "_view_name": "StyleView",
            "_model_name": "DescriptionStyleModel",
            "description_width": "",
            "_view_module": "@jupyter-widgets/base",
            "_model_module_version": "1.5.0",
            "_view_count": null,
            "_view_module_version": "1.2.0",
            "_model_module": "@jupyter-widgets/controls"
          }
        },
        "3c2a680f985e4e958913166115ffac38": {
          "model_module": "@jupyter-widgets/base",
          "model_name": "LayoutModel",
          "model_module_version": "1.2.0",
          "state": {
            "_view_name": "LayoutView",
            "grid_template_rows": null,
            "right": null,
            "justify_content": null,
            "_view_module": "@jupyter-widgets/base",
            "overflow": null,
            "_model_module_version": "1.2.0",
            "_view_count": null,
            "flex_flow": null,
            "width": null,
            "min_width": null,
            "border": null,
            "align_items": null,
            "bottom": null,
            "_model_module": "@jupyter-widgets/base",
            "top": null,
            "grid_column": null,
            "overflow_y": null,
            "overflow_x": null,
            "grid_auto_flow": null,
            "grid_area": null,
            "grid_template_columns": null,
            "flex": null,
            "_model_name": "LayoutModel",
            "justify_items": null,
            "grid_row": null,
            "max_height": null,
            "align_content": null,
            "visibility": null,
            "align_self": null,
            "height": null,
            "min_height": null,
            "padding": null,
            "grid_auto_rows": null,
            "grid_gap": null,
            "max_width": null,
            "order": null,
            "_view_module_version": "1.2.0",
            "grid_template_areas": null,
            "object_position": null,
            "object_fit": null,
            "grid_auto_columns": null,
            "margin": null,
            "display": null,
            "left": null
          }
        }
      }
    }
  },
  "cells": [
    {
      "cell_type": "code",
      "metadata": {
        "colab": {
          "base_uri": "https://localhost:8080/"
        },
        "id": "ZzKPHpMO2vnB",
        "outputId": "efd87387-7397-466c-978a-e8a974167318"
      },
      "source": [
        "pip install implicit"
      ],
      "execution_count": null,
      "outputs": [
        {
          "output_type": "stream",
          "text": [
            "Collecting implicit\n",
            "  Downloading implicit-0.4.4.tar.gz (1.1 MB)\n",
            "\u001b[?25l\r\u001b[K     |▎                               | 10 kB 17.2 MB/s eta 0:00:01\r\u001b[K     |▋                               | 20 kB 20.7 MB/s eta 0:00:01\r\u001b[K     |▉                               | 30 kB 23.5 MB/s eta 0:00:01\r\u001b[K     |█▏                              | 40 kB 19.8 MB/s eta 0:00:01\r\u001b[K     |█▌                              | 51 kB 11.0 MB/s eta 0:00:01\r\u001b[K     |█▊                              | 61 kB 12.1 MB/s eta 0:00:01\r\u001b[K     |██                              | 71 kB 12.6 MB/s eta 0:00:01\r\u001b[K     |██▍                             | 81 kB 13.9 MB/s eta 0:00:01\r\u001b[K     |██▋                             | 92 kB 14.8 MB/s eta 0:00:01\r\u001b[K     |███                             | 102 kB 10.9 MB/s eta 0:00:01\r\u001b[K     |███▎                            | 112 kB 10.9 MB/s eta 0:00:01\r\u001b[K     |███▌                            | 122 kB 10.9 MB/s eta 0:00:01\r\u001b[K     |███▉                            | 133 kB 10.9 MB/s eta 0:00:01\r\u001b[K     |████▏                           | 143 kB 10.9 MB/s eta 0:00:01\r\u001b[K     |████▍                           | 153 kB 10.9 MB/s eta 0:00:01\r\u001b[K     |████▊                           | 163 kB 10.9 MB/s eta 0:00:01\r\u001b[K     |█████                           | 174 kB 10.9 MB/s eta 0:00:01\r\u001b[K     |█████▎                          | 184 kB 10.9 MB/s eta 0:00:01\r\u001b[K     |█████▋                          | 194 kB 10.9 MB/s eta 0:00:01\r\u001b[K     |██████                          | 204 kB 10.9 MB/s eta 0:00:01\r\u001b[K     |██████▏                         | 215 kB 10.9 MB/s eta 0:00:01\r\u001b[K     |██████▌                         | 225 kB 10.9 MB/s eta 0:00:01\r\u001b[K     |██████▉                         | 235 kB 10.9 MB/s eta 0:00:01\r\u001b[K     |███████                         | 245 kB 10.9 MB/s eta 0:00:01\r\u001b[K     |███████▍                        | 256 kB 10.9 MB/s eta 0:00:01\r\u001b[K     |███████▊                        | 266 kB 10.9 MB/s eta 0:00:01\r\u001b[K     |████████                        | 276 kB 10.9 MB/s eta 0:00:01\r\u001b[K     |████████▎                       | 286 kB 10.9 MB/s eta 0:00:01\r\u001b[K     |████████▋                       | 296 kB 10.9 MB/s eta 0:00:01\r\u001b[K     |████████▉                       | 307 kB 10.9 MB/s eta 0:00:01\r\u001b[K     |█████████▏                      | 317 kB 10.9 MB/s eta 0:00:01\r\u001b[K     |█████████▌                      | 327 kB 10.9 MB/s eta 0:00:01\r\u001b[K     |█████████▊                      | 337 kB 10.9 MB/s eta 0:00:01\r\u001b[K     |██████████                      | 348 kB 10.9 MB/s eta 0:00:01\r\u001b[K     |██████████▍                     | 358 kB 10.9 MB/s eta 0:00:01\r\u001b[K     |██████████▋                     | 368 kB 10.9 MB/s eta 0:00:01\r\u001b[K     |███████████                     | 378 kB 10.9 MB/s eta 0:00:01\r\u001b[K     |███████████▏                    | 389 kB 10.9 MB/s eta 0:00:01\r\u001b[K     |███████████▌                    | 399 kB 10.9 MB/s eta 0:00:01\r\u001b[K     |███████████▉                    | 409 kB 10.9 MB/s eta 0:00:01\r\u001b[K     |████████████                    | 419 kB 10.9 MB/s eta 0:00:01\r\u001b[K     |████████████▍                   | 430 kB 10.9 MB/s eta 0:00:01\r\u001b[K     |████████████▊                   | 440 kB 10.9 MB/s eta 0:00:01\r\u001b[K     |█████████████                   | 450 kB 10.9 MB/s eta 0:00:01\r\u001b[K     |█████████████▎                  | 460 kB 10.9 MB/s eta 0:00:01\r\u001b[K     |█████████████▋                  | 471 kB 10.9 MB/s eta 0:00:01\r\u001b[K     |█████████████▉                  | 481 kB 10.9 MB/s eta 0:00:01\r\u001b[K     |██████████████▏                 | 491 kB 10.9 MB/s eta 0:00:01\r\u001b[K     |██████████████▌                 | 501 kB 10.9 MB/s eta 0:00:01\r\u001b[K     |██████████████▊                 | 512 kB 10.9 MB/s eta 0:00:01\r\u001b[K     |███████████████                 | 522 kB 10.9 MB/s eta 0:00:01\r\u001b[K     |███████████████▍                | 532 kB 10.9 MB/s eta 0:00:01\r\u001b[K     |███████████████▋                | 542 kB 10.9 MB/s eta 0:00:01\r\u001b[K     |████████████████                | 552 kB 10.9 MB/s eta 0:00:01\r\u001b[K     |████████████████▎               | 563 kB 10.9 MB/s eta 0:00:01\r\u001b[K     |████████████████▌               | 573 kB 10.9 MB/s eta 0:00:01\r\u001b[K     |████████████████▉               | 583 kB 10.9 MB/s eta 0:00:01\r\u001b[K     |█████████████████▏              | 593 kB 10.9 MB/s eta 0:00:01\r\u001b[K     |█████████████████▍              | 604 kB 10.9 MB/s eta 0:00:01\r\u001b[K     |█████████████████▊              | 614 kB 10.9 MB/s eta 0:00:01\r\u001b[K     |██████████████████              | 624 kB 10.9 MB/s eta 0:00:01\r\u001b[K     |██████████████████▎             | 634 kB 10.9 MB/s eta 0:00:01\r\u001b[K     |██████████████████▋             | 645 kB 10.9 MB/s eta 0:00:01\r\u001b[K     |███████████████████             | 655 kB 10.9 MB/s eta 0:00:01\r\u001b[K     |███████████████████▏            | 665 kB 10.9 MB/s eta 0:00:01\r\u001b[K     |███████████████████▌            | 675 kB 10.9 MB/s eta 0:00:01\r\u001b[K     |███████████████████▉            | 686 kB 10.9 MB/s eta 0:00:01\r\u001b[K     |████████████████████            | 696 kB 10.9 MB/s eta 0:00:01\r\u001b[K     |████████████████████▍           | 706 kB 10.9 MB/s eta 0:00:01\r\u001b[K     |████████████████████▊           | 716 kB 10.9 MB/s eta 0:00:01\r\u001b[K     |█████████████████████           | 727 kB 10.9 MB/s eta 0:00:01\r\u001b[K     |█████████████████████▎          | 737 kB 10.9 MB/s eta 0:00:01\r\u001b[K     |█████████████████████▋          | 747 kB 10.9 MB/s eta 0:00:01\r\u001b[K     |█████████████████████▉          | 757 kB 10.9 MB/s eta 0:00:01\r\u001b[K     |██████████████████████▏         | 768 kB 10.9 MB/s eta 0:00:01\r\u001b[K     |██████████████████████▍         | 778 kB 10.9 MB/s eta 0:00:01\r\u001b[K     |██████████████████████▊         | 788 kB 10.9 MB/s eta 0:00:01\r\u001b[K     |███████████████████████         | 798 kB 10.9 MB/s eta 0:00:01\r\u001b[K     |███████████████████████▎        | 808 kB 10.9 MB/s eta 0:00:01\r\u001b[K     |███████████████████████▋        | 819 kB 10.9 MB/s eta 0:00:01\r\u001b[K     |████████████████████████        | 829 kB 10.9 MB/s eta 0:00:01\r\u001b[K     |████████████████████████▏       | 839 kB 10.9 MB/s eta 0:00:01\r\u001b[K     |████████████████████████▌       | 849 kB 10.9 MB/s eta 0:00:01\r\u001b[K     |████████████████████████▉       | 860 kB 10.9 MB/s eta 0:00:01\r\u001b[K     |█████████████████████████       | 870 kB 10.9 MB/s eta 0:00:01\r\u001b[K     |█████████████████████████▍      | 880 kB 10.9 MB/s eta 0:00:01\r\u001b[K     |█████████████████████████▊      | 890 kB 10.9 MB/s eta 0:00:01\r\u001b[K     |██████████████████████████      | 901 kB 10.9 MB/s eta 0:00:01\r\u001b[K     |██████████████████████████▎     | 911 kB 10.9 MB/s eta 0:00:01\r\u001b[K     |██████████████████████████▋     | 921 kB 10.9 MB/s eta 0:00:01\r\u001b[K     |██████████████████████████▉     | 931 kB 10.9 MB/s eta 0:00:01\r\u001b[K     |███████████████████████████▏    | 942 kB 10.9 MB/s eta 0:00:01\r\u001b[K     |███████████████████████████▌    | 952 kB 10.9 MB/s eta 0:00:01\r\u001b[K     |███████████████████████████▊    | 962 kB 10.9 MB/s eta 0:00:01\r\u001b[K     |████████████████████████████    | 972 kB 10.9 MB/s eta 0:00:01\r\u001b[K     |████████████████████████████▍   | 983 kB 10.9 MB/s eta 0:00:01\r\u001b[K     |████████████████████████████▋   | 993 kB 10.9 MB/s eta 0:00:01\r\u001b[K     |█████████████████████████████   | 1.0 MB 10.9 MB/s eta 0:00:01\r\u001b[K     |█████████████████████████████▎  | 1.0 MB 10.9 MB/s eta 0:00:01\r\u001b[K     |█████████████████████████████▌  | 1.0 MB 10.9 MB/s eta 0:00:01\r\u001b[K     |█████████████████████████████▉  | 1.0 MB 10.9 MB/s eta 0:00:01\r\u001b[K     |██████████████████████████████▏ | 1.0 MB 10.9 MB/s eta 0:00:01\r\u001b[K     |██████████████████████████████▍ | 1.1 MB 10.9 MB/s eta 0:00:01\r\u001b[K     |██████████████████████████████▊ | 1.1 MB 10.9 MB/s eta 0:00:01\r\u001b[K     |███████████████████████████████ | 1.1 MB 10.9 MB/s eta 0:00:01\r\u001b[K     |███████████████████████████████▎| 1.1 MB 10.9 MB/s eta 0:00:01\r\u001b[K     |███████████████████████████████▋| 1.1 MB 10.9 MB/s eta 0:00:01\r\u001b[K     |████████████████████████████████| 1.1 MB 10.9 MB/s eta 0:00:01\r\u001b[K     |████████████████████████████████| 1.1 MB 10.9 MB/s \n",
            "\u001b[?25hRequirement already satisfied: numpy in /usr/local/lib/python3.7/dist-packages (from implicit) (1.19.5)\n",
            "Requirement already satisfied: scipy>=0.16 in /usr/local/lib/python3.7/dist-packages (from implicit) (1.4.1)\n",
            "Requirement already satisfied: tqdm>=4.27 in /usr/local/lib/python3.7/dist-packages (from implicit) (4.41.1)\n",
            "Building wheels for collected packages: implicit\n",
            "  Building wheel for implicit (setup.py) ... \u001b[?25l\u001b[?25hdone\n",
            "  Created wheel for implicit: filename=implicit-0.4.4-cp37-cp37m-linux_x86_64.whl size=3406620 sha256=9579c5eae13bbe161f7177b2828e16096d194df5d592c8e95bdb98b44ffd0088\n",
            "  Stored in directory: /root/.cache/pip/wheels/44/7e/7d/a17324ea207cfbe76aca878b5b8ca0aa932cf55d163329be37\n",
            "Successfully built implicit\n",
            "Installing collected packages: implicit\n",
            "Successfully installed implicit-0.4.4\n"
          ],
          "name": "stdout"
        }
      ]
    },
    {
      "cell_type": "code",
      "metadata": {
        "id": "hBV96QUV3Bxr"
      },
      "source": [
        "#импортируем библиотеки\n",
        "import numpy as np\n",
        "import pandas as pd\n",
        "from tqdm.notebook import tqdm\n",
        "import pickle \n",
        "import implicit\n",
        "from scipy import sparse as sp\n",
        "from sklearn.decomposition import TruncatedSVD\n",
        "from sklearn.neighbors import NearestNeighbors"
      ],
      "execution_count": null,
      "outputs": []
    },
    {
      "cell_type": "code",
      "metadata": {
        "colab": {
          "base_uri": "https://localhost:8080/"
        },
        "id": "7jZAFsa326-N",
        "outputId": "9b5487ad-cac3-475d-eb77-54fff653ba04"
      },
      "source": [
        "from google.colab import drive\n",
        "drive.mount('/content/drive')"
      ],
      "execution_count": null,
      "outputs": [
        {
          "output_type": "stream",
          "text": [
            "Mounted at /content/drive\n"
          ],
          "name": "stdout"
        }
      ]
    },
    {
      "cell_type": "code",
      "metadata": {
        "id": "HBC7DVZe285V"
      },
      "source": [
        "#датасет транзакций\n",
        "transactions = pd.read_csv(\"//content/drive/MyDrive/skillbox-recommender-system.zip (Unzipped Files)/transactions.csv\")"
      ],
      "execution_count": null,
      "outputs": []
    },
    {
      "cell_type": "code",
      "metadata": {
        "id": "jyUdM2l23kx0"
      },
      "source": [
        "#отсортируем датасет\n",
        "transactions.sort_values('order_id',inplace=True)"
      ],
      "execution_count": null,
      "outputs": []
    },
    {
      "cell_type": "code",
      "metadata": {
        "id": "AnrpaQK_3pvk"
      },
      "source": [
        "#train_test_split 70% на 30%\n",
        "train = transactions[:18485651]\n",
        "test = transactions[18485651:]"
      ],
      "execution_count": null,
      "outputs": []
    },
    {
      "cell_type": "code",
      "metadata": {
        "id": "OMzbo4V94LCg"
      },
      "source": [
        "#создадим множество user_id для кодировки ID\n",
        "user_id_set = set(transactions['user_id'])\n",
        "#создадим множество product_id для кодировки ID\n",
        "product_id_set = set(transactions['product_id'])"
      ],
      "execution_count": null,
      "outputs": []
    },
    {
      "cell_type": "code",
      "metadata": {
        "id": "650AaodE4Oer"
      },
      "source": [
        "#словари ключ словаря содержит значение user_id/product_id значение ключа содержит index для кодировки\n",
        "dict_user_id = {}\n",
        "dict_product_id = {}"
      ],
      "execution_count": null,
      "outputs": []
    },
    {
      "cell_type": "code",
      "metadata": {
        "id": "8n6nPxge4Za5"
      },
      "source": [
        "#словарь для раскодировки\n",
        "encode_user_id = {}\n",
        "encode_product_id = {}"
      ],
      "execution_count": null,
      "outputs": []
    },
    {
      "cell_type": "code",
      "metadata": {
        "colab": {
          "base_uri": "https://localhost:8080/",
          "height": 66,
          "referenced_widgets": [
            "bcef5fa45e654dfe8f15a464a34099bf",
            "bf1d7fcb149d4b5d9119bddc59253b8f",
            "a93c7d07aa0340c18ed7b0f4e693ef54",
            "089c83233ae443a596895894287bb094",
            "2644e7748d7c4dd48afec38a90267eee",
            "1f3042993c6e4b9194a98b40886f95cf",
            "bc7cb970a8734322969dfc10978d950d",
            "3cf859f0d21545489d643ce1beb013d2"
          ]
        },
        "id": "tB90JQSP4QQJ",
        "outputId": "d57e8210-9d8e-4066-e9bd-8a43578d9734"
      },
      "source": [
        "#кодируем user_id\n",
        "for idx,values in tqdm(enumerate(user_id_set)):\n",
        "    dict_user_id.update({values:idx})"
      ],
      "execution_count": null,
      "outputs": [
        {
          "output_type": "display_data",
          "data": {
            "application/vnd.jupyter.widget-view+json": {
              "model_id": "bcef5fa45e654dfe8f15a464a34099bf",
              "version_minor": 0,
              "version_major": 2
            },
            "text/plain": [
              "HBox(children=(FloatProgress(value=1.0, bar_style='info', max=1.0), HTML(value='')))"
            ]
          },
          "metadata": {
            "tags": []
          }
        },
        {
          "output_type": "stream",
          "text": [
            "\n"
          ],
          "name": "stdout"
        }
      ]
    },
    {
      "cell_type": "code",
      "metadata": {
        "colab": {
          "base_uri": "https://localhost:8080/",
          "height": 66,
          "referenced_widgets": [
            "43cb883f8f964a479a28ebff6f17002a",
            "890ba787dfff466f9f3014e9111dd1ed",
            "34b1d0f90cb44c1ebbb313396695f30c",
            "236ce12eac5f494092d4a0ea4a1b3f0c",
            "ea4786c5686246f3bf270776c181f68c",
            "7e7520fde17b4fb6a3ab87a5982b7af8",
            "3abdce5d528c4983af7c2000966d45ac",
            "d3d2d5cf0e254bf1b0d8d0e0aed21723"
          ]
        },
        "id": "wnyllW3j4Ref",
        "outputId": "dfd9bad8-892f-4cf4-9897-cedd2738f60d"
      },
      "source": [
        "#кодируем product_id\n",
        "for idx,values in tqdm(enumerate(product_id_set)):\n",
        "    dict_product_id.update({values:idx})"
      ],
      "execution_count": null,
      "outputs": [
        {
          "output_type": "display_data",
          "data": {
            "application/vnd.jupyter.widget-view+json": {
              "model_id": "43cb883f8f964a479a28ebff6f17002a",
              "version_minor": 0,
              "version_major": 2
            },
            "text/plain": [
              "HBox(children=(FloatProgress(value=1.0, bar_style='info', max=1.0), HTML(value='')))"
            ]
          },
          "metadata": {
            "tags": []
          }
        },
        {
          "output_type": "stream",
          "text": [
            "\n"
          ],
          "name": "stdout"
        }
      ]
    },
    {
      "cell_type": "code",
      "metadata": {
        "colab": {
          "base_uri": "https://localhost:8080/",
          "height": 66,
          "referenced_widgets": [
            "eaa6a1be5431452ab35a3a4b2ed74c42",
            "a72c40703fa24e63a45b08351a025753",
            "afbaec15f02d4455b16744f5b25cabd4",
            "96ea2ccb59554bc2ad6a65448c2ad4aa",
            "2aa65a8fef6a441e8a5db3d1fb55a8ce",
            "14d5d9beeb4f42bab981fdf0d143e6d6",
            "0dd5cbacf8c64392a79e6db443f19342",
            "15e689d3bc1f45cfb057d57e74ef17f7"
          ]
        },
        "id": "xasoYlLE4fIb",
        "outputId": "7b5c2dd9-206e-4bb1-a29d-3d57e5f85d13"
      },
      "source": [
        "#раскодируем user_id\n",
        "for i in tqdm(dict_user_id.keys()):\n",
        "  encode_user_id.update({dict_user_id.get(i):i})"
      ],
      "execution_count": null,
      "outputs": [
        {
          "output_type": "display_data",
          "data": {
            "application/vnd.jupyter.widget-view+json": {
              "model_id": "eaa6a1be5431452ab35a3a4b2ed74c42",
              "version_minor": 0,
              "version_major": 2
            },
            "text/plain": [
              "HBox(children=(FloatProgress(value=0.0, max=100000.0), HTML(value='')))"
            ]
          },
          "metadata": {
            "tags": []
          }
        },
        {
          "output_type": "stream",
          "text": [
            "\n"
          ],
          "name": "stdout"
        }
      ]
    },
    {
      "cell_type": "code",
      "metadata": {
        "colab": {
          "base_uri": "https://localhost:8080/",
          "height": 66,
          "referenced_widgets": [
            "939325e7c7cc468d9f68f3a50818b245",
            "b4da355969f84f22ad81a572ae9c4db8",
            "e0dc765b9f474db28735a2a5753ac218",
            "a6ed9a971b0e4f0698438c6876ea2987",
            "c9a9f901c1be4700b9a6026d0e5e879b",
            "cac43694adc54f6aab495e027a978cd7",
            "ee7890d337be4586aa25f5951d8985ca",
            "482ed4c489984018ab8fe63397e79eff"
          ]
        },
        "id": "yvvzFSJy4gs4",
        "outputId": "523cdba2-a49e-47cb-aded-9ffbd02e91e5"
      },
      "source": [
        "#раскодируем product_id\n",
        "for i in tqdm(dict_product_id.keys()):\n",
        "  encode_product_id.update({dict_product_id.get(i):i})"
      ],
      "execution_count": null,
      "outputs": [
        {
          "output_type": "display_data",
          "data": {
            "application/vnd.jupyter.widget-view+json": {
              "model_id": "939325e7c7cc468d9f68f3a50818b245",
              "version_minor": 0,
              "version_major": 2
            },
            "text/plain": [
              "HBox(children=(FloatProgress(value=0.0, max=49465.0), HTML(value='')))"
            ]
          },
          "metadata": {
            "tags": []
          }
        },
        {
          "output_type": "stream",
          "text": [
            "\n"
          ],
          "name": "stdout"
        }
      ]
    },
    {
      "cell_type": "code",
      "metadata": {
        "id": "Sf06-NXA4vsN"
      },
      "source": [
        "#инициализируем нулевую матрицу количество пользователей на продукты\n",
        "#test_matrix = np.zeros((transactions['user_id'].nunique(),transactions['product_id'].nunique()),dtype='uint8')\n",
        "#train_matrix = np.zeros((transactions['user_id'].nunique(),transactions['product_id'].nunique()),dtype='uint8')\n",
        "#Матрица количества покупок\n",
        "# emb_pur_count = np.zeros((transactions['user_id'].nunique(),transactions['product_id'].nunique()),dtype='uint8')\n"
      ],
      "execution_count": null,
      "outputs": []
    },
    {
      "cell_type": "code",
      "metadata": {
        "id": "pjMBzBUg4x_p"
      },
      "source": [
        "# #заполняем test матрицу \n",
        "# for row in tqdm(test.iterrows()):\n",
        "#     test_matrix[dict_user_id.get(int(row[1]['user_id']))][dict_product_id.get(int(row[1]['product_id']))] = 1"
      ],
      "execution_count": null,
      "outputs": []
    },
    {
      "cell_type": "code",
      "metadata": {
        "id": "nBEAI-CQ4-Q0"
      },
      "source": [
        "# #заполняем train матрицу \n",
        "# for row in tqdm(train.iterrows()):\n",
        "#     train_matrix[dict_user_id.get(int(row[1]['user_id']))][dict_product_id.get(int(row[1]['product_id']))] = 1"
      ],
      "execution_count": null,
      "outputs": []
    },
    {
      "cell_type": "code",
      "metadata": {
        "id": "2OMKNqBI5CRm"
      },
      "source": [
        "#заполним свою матрицу количества покупок\n",
        "# for row in tqdm(transactions.iterrows()):\n",
        "#   emb_pur_count[dict_user_id.get(int(row[1]['user_id']))][dict_product_id.get(int(row[1]['product_id']))] += 1"
      ],
      "execution_count": null,
      "outputs": []
    },
    {
      "cell_type": "code",
      "metadata": {
        "id": "QBevScOq5X9g"
      },
      "source": [
        "f = open('/content/drive/MyDrive/skillbox-recommender-system.zip (Unzipped Files)/test_matrix.pkl','rb')\n",
        "test_matrix = pickle.load(f)\n",
        "f.close()"
      ],
      "execution_count": null,
      "outputs": []
    },
    {
      "cell_type": "code",
      "metadata": {
        "id": "DdhE0Pn55av3"
      },
      "source": [
        "f = open('/content/drive/MyDrive/skillbox-recommender-system.zip (Unzipped Files)/train_matrix.pkl','rb')\n",
        "train_matrix = pickle.load(f)\n",
        "f.close()"
      ],
      "execution_count": null,
      "outputs": []
    },
    {
      "cell_type": "code",
      "metadata": {
        "id": "QHdRnYwU5cK0"
      },
      "source": [
        "f = open('/content/drive/MyDrive/skillbox-recommender-system.zip (Unzipped Files)/emb_pur_count.pkl','rb')\n",
        "emb_pur_count = pickle.load(f)\n",
        "f.close()"
      ],
      "execution_count": null,
      "outputs": []
    },
    {
      "cell_type": "markdown",
      "metadata": {
        "id": "AY27Js0Q5o2Q"
      },
      "source": [
        "Получим топ покупаемых товаров далее идем в цикле по матрице и получаем список покупок в датасете train и считаем метрику"
      ]
    },
    {
      "cell_type": "code",
      "metadata": {
        "id": "QuMdjZ-m5zoh"
      },
      "source": [
        "top_group = train.groupby('product_id',as_index=False).count()\n",
        "top_group.sort_values('user_id',ascending=False,inplace=True)"
      ],
      "execution_count": null,
      "outputs": []
    },
    {
      "cell_type": "code",
      "metadata": {
        "id": "f7vZDfQf57La"
      },
      "source": [
        "top_products = top_group['product_id'][:30]"
      ],
      "execution_count": null,
      "outputs": []
    },
    {
      "cell_type": "code",
      "metadata": {
        "id": "FZfBo6Wu59K7"
      },
      "source": [
        "top = []\n",
        "for i in top_products:\n",
        "    top.append(dict_product_id.get(i))\n",
        "    "
      ],
      "execution_count": null,
      "outputs": []
    },
    {
      "cell_type": "code",
      "metadata": {
        "id": "U6i_cS8t5gHf"
      },
      "source": [
        "def average_precision(actual, recommended, k=10):\n",
        "    ap_sum = 0\n",
        "    hits = 0\n",
        "    for i in range(k):\n",
        "        product_id = recommended[i] if i < len(recommended) else None\n",
        "        if product_id in actual:\n",
        "            hits += 1\n",
        "            ap_sum += hits / (i + 1)\n",
        "    return ap_sum / k\n",
        "\n",
        "\n",
        "def normalized_average_precision(actual, recommended, k=10):\n",
        "    #actual = set(actual)\n",
        "    if len(actual) == 0:\n",
        "        return 0.0\n",
        "\n",
        "    ap = average_precision(actual, recommended, k=k)\n",
        "    ap_ideal = average_precision(actual, list(actual)[:k], k=k)\n",
        "    return ap / ap_ideal"
      ],
      "execution_count": null,
      "outputs": []
    },
    {
      "cell_type": "markdown",
      "metadata": {
        "id": "mzJgItPJ9SaJ"
      },
      "source": [
        "Посчитаем метрику, подставим топ 10 товаров всем пользоваталям ( будем считать это минимум метрики)"
      ]
    },
    {
      "cell_type": "code",
      "metadata": {
        "colab": {
          "base_uri": "https://localhost:8080/",
          "height": 83,
          "referenced_widgets": [
            "e95dc719864d4f889016adaa5ffde8da",
            "a24e1689c1fc4cb98e1026769e6a209e",
            "24ad70fe14724e2f85f7506917ed76c6",
            "ac58c4b7fa654f16b56eedd8ec8c2dbe",
            "fffb4130b4fd4f77a4ecf811be845dac",
            "9993f88f01a24d54ad542243253d7d52",
            "efa14a26b44742c6b2cf2e4cc8e4e376",
            "3ecd701260c34725943a037b9d62195b"
          ]
        },
        "id": "oXvNFB4u5d9a",
        "outputId": "d65fcc45-f25c-4ffd-c39d-f7a6175a4486"
      },
      "source": [
        "#идем в цикле по матрице, получаем список покупок ( gt_items ) и считаем метрику\n",
        "scores = []\n",
        "for i in tqdm(test_matrix):\n",
        "    gt_items = np.nonzero(i)[0]\n",
        "    #print(gt_items)\n",
        "    ap = normalized_average_precision(gt_items, top)\n",
        "    scores.append(ap)\n",
        "print(np.mean(scores))"
      ],
      "execution_count": null,
      "outputs": [
        {
          "output_type": "display_data",
          "data": {
            "application/vnd.jupyter.widget-view+json": {
              "model_id": "e95dc719864d4f889016adaa5ffde8da",
              "version_minor": 0,
              "version_major": 2
            },
            "text/plain": [
              "HBox(children=(FloatProgress(value=0.0, max=100000.0), HTML(value='')))"
            ]
          },
          "metadata": {
            "tags": []
          }
        },
        {
          "output_type": "stream",
          "text": [
            "\n",
            "0.1283308363945578\n"
          ],
          "name": "stdout"
        }
      ]
    },
    {
      "cell_type": "code",
      "metadata": {
        "id": "xe45TVxk9oaj"
      },
      "source": [
        "# #матрицу для всего датасета\n",
        "# full_matrix = np.zeros((transactions['user_id'].nunique(),transactions['product_id'].nunique()),dtype='uint8')\n",
        "# for row in tqdm(transactions.iterrows()):\n",
        "#     full_matrix[dict_user_id.get(int(row[1]['user_id']))][dict_product_id.get(int(row[1]['product_id']))] = 1"
      ],
      "execution_count": null,
      "outputs": []
    },
    {
      "cell_type": "code",
      "metadata": {
        "id": "ZI4ouCAG92o4"
      },
      "source": [
        "#функция которая принимает список транзацкий по пользователю и user_id пользователя, подготавливает данные к подаче модели.\n",
        "#используем количество товаров как фича, пробовал разные вариации, оставляем самую эффективную\n",
        "#функция возвращает обьект coo_matrix\n",
        "\n",
        "def make_coo_row(transaction_history,d_user_id):\n",
        "    idx = [] #id товара\n",
        "    values = [] #количество товара\n",
        "    enc_user_id = encode_user_id.get(d_user_id) #id пользователя\n",
        "    items = [] # id товара\n",
        "    #бежим в цикле по транзакциям и добавляем product_id в items\n",
        "    for trans in transaction_history:\n",
        "        items.append(trans)\n",
        "    #записываем количество продуктов\n",
        "    n_items = len(items)\n",
        "\n",
        "    for pid in items:\n",
        "        #идем в цикле по товарам\n",
        "        idx.append(pid) #добавляем товар в список\n",
        "        #values.append(1.0 / n_items) #нормализуем \n",
        "        #values.append(1.0)\n",
        "        values.append(emb_pur_count[d_user_id][pid])\n",
        "    return sp.coo_matrix(\n",
        "        (np.array(values).astype(np.float32), ([0] * len(idx), idx)), shape=(1, 49465),\n",
        "    )"
      ],
      "execution_count": null,
      "outputs": []
    },
    {
      "cell_type": "code",
      "metadata": {
        "colab": {
          "base_uri": "https://localhost:8080/",
          "height": 66,
          "referenced_widgets": [
            "e487f5254ca94144817040b3f6ae0333",
            "512b5b122cb54737813642e0f92f53e4",
            "bd984199917540428d1ae4063e10726a",
            "6f842622d2ce440886f29cd5d8f06a71",
            "21bc48a592894e9ebd7ec8b8a50c7167",
            "f8579a59841a49f5b1c47226769945fd",
            "a035d4afcdc24b939210e54e5b0de1c8",
            "b006cc9563174e968a4395545e4a222c"
          ]
        },
        "id": "EF0yiw7S-62E",
        "outputId": "2bf60609-c04b-4570-fdb6-e7343713992a"
      },
      "source": [
        "#подготовим данные для обучения\n",
        "train_rows = []\n",
        "usr_id = 0\n",
        "#идем в цикле по train_matrix\n",
        "for i in tqdm(train_matrix):\n",
        "  temp = np.nonzero(i)[0] #получаем id товаров \n",
        "  train_rows.append(make_coo_row(temp,usr_id)) #добавляем coo_matrix в список train_rows\n",
        "  usr_id += 1 #инкрементим пользователя"
      ],
      "execution_count": null,
      "outputs": [
        {
          "output_type": "display_data",
          "data": {
            "application/vnd.jupyter.widget-view+json": {
              "model_id": "e487f5254ca94144817040b3f6ae0333",
              "version_minor": 0,
              "version_major": 2
            },
            "text/plain": [
              "HBox(children=(FloatProgress(value=0.0, max=100000.0), HTML(value='')))"
            ]
          },
          "metadata": {
            "tags": []
          }
        },
        {
          "output_type": "stream",
          "text": [
            "\n"
          ],
          "name": "stdout"
        }
      ]
    },
    {
      "cell_type": "code",
      "metadata": {
        "id": "dKLSml0r_t-N"
      },
      "source": [
        "#сложим матрицу по столбцам и сожмем\n",
        "matrix_train_sparse = sp.vstack(train_rows).tocsr()\n"
      ],
      "execution_count": null,
      "outputs": []
    },
    {
      "cell_type": "code",
      "metadata": {
        "colab": {
          "base_uri": "https://localhost:8080/"
        },
        "id": "zTwTd-jZ_qMf",
        "outputId": "f79b31b2-a007-415f-fdfa-db57d0a6e4cc"
      },
      "source": [
        "matrix_train_sparse.shape"
      ],
      "execution_count": null,
      "outputs": [
        {
          "output_type": "execute_result",
          "data": {
            "text/plain": [
              "(100000, 49465)"
            ]
          },
          "metadata": {
            "tags": []
          },
          "execution_count": 30
        }
      ]
    },
    {
      "cell_type": "code",
      "metadata": {
        "colab": {
          "base_uri": "https://localhost:8080/",
          "height": 83,
          "referenced_widgets": [
            "2aca562a6f884230827c6009154f5807",
            "86eb0acbfa944c96804bd79795f2164a",
            "0b33174c52244822be8e1d5ca82c24a9",
            "d4d284bccd964c799cd8f3f3de4bd04b",
            "42a2acb73bc344319539e6f5777353d1",
            "6d956e4fc8074caf82b90e77b157873d",
            "20489fd3d6ad460780040e530c0d58b4",
            "eaa5802dba7b4e5299bc5109726d4340"
          ]
        },
        "id": "lgF5oz7I_-1E",
        "outputId": "a7603f00-4080-41d4-aa23-3481266928db"
      },
      "source": [
        "#создадим модель ALS\n",
        "model_als = implicit.als.AlternatingLeastSquares(factors=128, regularization=0.5, iterations=7,use_gpu=False)\n",
        "#обучим модель ALS\n",
        "#транспонируем матрицу так как модель принимает (number_of_items, number_of_users).\n",
        "model_als.fit(matrix_train_sparse.T)"
      ],
      "execution_count": null,
      "outputs": [
        {
          "output_type": "stream",
          "text": [
            "WARNING:root:OpenBLAS detected. Its highly recommend to set the environment variable 'export OPENBLAS_NUM_THREADS=1' to disable its internal multithreading\n"
          ],
          "name": "stderr"
        },
        {
          "output_type": "display_data",
          "data": {
            "application/vnd.jupyter.widget-view+json": {
              "model_id": "2aca562a6f884230827c6009154f5807",
              "version_minor": 0,
              "version_major": 2
            },
            "text/plain": [
              "HBox(children=(FloatProgress(value=0.0, max=7.0), HTML(value='')))"
            ]
          },
          "metadata": {
            "tags": []
          }
        },
        {
          "output_type": "stream",
          "text": [
            "\n"
          ],
          "name": "stdout"
        }
      ]
    },
    {
      "cell_type": "code",
      "metadata": {
        "id": "EZoTs8a-AeAu"
      },
      "source": [
        "#создадим датасет рекомендуемых товаров\n",
        "df_result_als = pd.DataFrame(columns=['user_id','product_id'])"
      ],
      "execution_count": null,
      "outputs": []
    },
    {
      "cell_type": "code",
      "metadata": {
        "colab": {
          "base_uri": "https://localhost:8080/",
          "height": 83,
          "referenced_widgets": [
            "1e270973f7ba443e9e6b3060a150c9ba",
            "e39204d6a66b46a0b29fb3897539f700",
            "65cb898a94cb4b96997ac7a187e7d02b",
            "445d634797e94a5e8ca05cebcc2317cb",
            "11900315cb8444e1998adfe7cda979ff",
            "4014227c6384428db04eb1e66d117b74",
            "8f5c872253fe4dfabba4dac275a2d3be",
            "51e216f468dc424abc81ec7b70b847d2"
          ]
        },
        "id": "AuAlXnhKA64B",
        "outputId": "3ce5a0c3-0adf-41fb-bd02-7f85181ac504"
      },
      "source": [
        "###ALS\n",
        "m_ap_als = [] #список для сохранения матрике по пользователю\n",
        "usr_id = 0\n",
        "#Цикл по train_matrix, далее подготавливаем данные и получаем прогноз рекомендации\n",
        "for index,values in tqdm(enumerate(train_matrix)):\n",
        "  #подготовим данные используя функцию make_coo_row\n",
        "  row_sparse = make_coo_row(np.nonzero(values)[0],usr_id).tocsr()\n",
        "  #получим прогноз рекомендации\n",
        "  raw_recs = model_als.recommend(0, row_sparse, N=10, filter_already_liked_items=False, recalculate_user=True)\n",
        "  #докодируем товар полученный из рекомендации\n",
        "  recommended_items = [encode_product_id.get(i[0]) for i in raw_recs]\n",
        "  #получим товар который купил пользователь в будущем\n",
        "  tmp = np.nonzero(test_matrix[index])[0]\n",
        "  #декодируем товар который купил пользователь в будущем\n",
        "  gt_items = [encode_product_id.get(i) for i in tmp] \n",
        "  #посчитаем метрику\n",
        "  ap = normalized_average_precision(gt_items, np.array(recommended_items))\n",
        "  #добавим список рекомендаций в датасет\n",
        "  df_result_als = df_result_als.append({'user_id':encode_user_id.get(index),'product_id':recommended_items},ignore_index=True)\n",
        "  #добавим метрику в список\n",
        "  m_ap_als.append(ap)\n",
        "  #инкрементим пользователя\n",
        "  usr_id += 1\n",
        "print(np.mean(m_ap_als))"
      ],
      "execution_count": null,
      "outputs": [
        {
          "output_type": "display_data",
          "data": {
            "application/vnd.jupyter.widget-view+json": {
              "model_id": "1e270973f7ba443e9e6b3060a150c9ba",
              "version_minor": 0,
              "version_major": 2
            },
            "text/plain": [
              "HBox(children=(FloatProgress(value=1.0, bar_style='info', max=1.0), HTML(value='')))"
            ]
          },
          "metadata": {
            "tags": []
          }
        },
        {
          "output_type": "stream",
          "text": [
            "\n",
            "0.29388479407438906\n"
          ],
          "name": "stdout"
        }
      ]
    },
    {
      "cell_type": "code",
      "metadata": {
        "colab": {
          "base_uri": "https://localhost:8080/",
          "height": 100,
          "referenced_widgets": [
            "71bc2058960e489c8241888b951f133c",
            "fec2805471a4430dbc4e3dd82791ce5e",
            "99c944dec6fb4fedb8dab58246c32232",
            "b7928a3b53774c5e823fe8cc2b43b003",
            "b8155d1009f346cebc63e5dca7121859",
            "afcb81caf42245faa4aa1dff53de6c78",
            "97f6c12458384535a151deaddcef40ad",
            "b4c1293421ff4bdeb8600074a1c33c2f"
          ]
        },
        "id": "1_6ZPwVSCGqk",
        "outputId": "e1401a06-163b-4146-b37c-191d3b13baa8"
      },
      "source": [
        "#создадим модель ближайших соседей для item to item\n",
        "model_nearest_neighbours = implicit.nearest_neighbours.CosineRecommender(K=200)\n",
        "model_nearest_neighbours.fit(matrix_train_sparse.T)"
      ],
      "execution_count": null,
      "outputs": [
        {
          "output_type": "stream",
          "text": [
            "/usr/local/lib/python3.7/dist-packages/implicit/nearest_neighbours.py:167: RuntimeWarning: invalid value encountered in true_divide\n",
            "  X.data = X.data / sqrt(bincount(X.row, X.data ** 2))[X.row]\n"
          ],
          "name": "stderr"
        },
        {
          "output_type": "display_data",
          "data": {
            "application/vnd.jupyter.widget-view+json": {
              "model_id": "71bc2058960e489c8241888b951f133c",
              "version_minor": 0,
              "version_major": 2
            },
            "text/plain": [
              "HBox(children=(FloatProgress(value=0.0, max=49465.0), HTML(value='')))"
            ]
          },
          "metadata": {
            "tags": []
          }
        },
        {
          "output_type": "stream",
          "text": [
            "\n"
          ],
          "name": "stdout"
        }
      ]
    },
    {
      "cell_type": "code",
      "metadata": {
        "id": "znqBUvwxC1D9"
      },
      "source": [
        "#создадим датасет рекомендуемых товаров\n",
        "df_result_item_knn = pd.DataFrame(columns=['user_id','product_id'])"
      ],
      "execution_count": null,
      "outputs": []
    },
    {
      "cell_type": "code",
      "metadata": {
        "colab": {
          "base_uri": "https://localhost:8080/",
          "height": 83,
          "referenced_widgets": [
            "c0bf9d298a794dc7b2136f6ad7494d1d",
            "b66498f50aa74f47b38ef787f492c89e",
            "6da0cc592864404e81466cc26d522baa",
            "9b13be6861d345bf955111358d636f92",
            "36fc1a1068ec40d59ebfa018b35fac2f",
            "6f51e445815c4ea3bfef592829f1077c",
            "e915fcb9fcaf492095b4c52e11ad11fb",
            "c98a58609e6a4d079c217237dc9a0876"
          ]
        },
        "id": "G18NhsmdCqAf",
        "outputId": "4112a3b8-ad75-42a6-e101-73db2e971686"
      },
      "source": [
        "###item to teim NN\n",
        "m_ap_nn = [] #список для сохранения матрике по пользователю\n",
        "usr_id = 0\n",
        "#Цикл по train_matrix, далее подготавливаем данные и получаем прогноз рекомендации\n",
        "for index,values in tqdm(enumerate(train_matrix)):\n",
        "  #подготовим данные используя функцию make_coo_row\n",
        "  row_sparse = make_coo_row(np.nonzero(values)[0],usr_id).tocsr()\n",
        "  #получим прогноз рекомендации\n",
        "  raw_recs = model_nearest_neighbours.recommend(0, row_sparse, N=10, filter_already_liked_items=False, recalculate_user=True)\n",
        "  #докодируем товар полученный из рекомендации\n",
        "  recommended_items = [encode_product_id.get(i[0]) for i in raw_recs]\n",
        "  #получим товар который купил пользователь в будущем\n",
        "  tmp = np.nonzero(test_matrix[index])[0]\n",
        "  #декодируем товар который купил пользователь в будущем\n",
        "  gt_items = [encode_product_id.get(i) for i in tmp] \n",
        "  #посчитаем метрику\n",
        "  ap = normalized_average_precision(gt_items, np.array(recommended_items))\n",
        "  #добавим список рекомендаций в датасет\n",
        "  df_result_item_knn = df_result_item_knn.append({'user_id':encode_user_id.get(index),'product_id':recommended_items},ignore_index=True)\n",
        "  #добавим метрику в список\n",
        "  m_ap_nn.append(ap)\n",
        "  #инкрементим пользователя\n",
        "  usr_id += 1\n",
        "print(np.mean(m_ap_nn))"
      ],
      "execution_count": null,
      "outputs": [
        {
          "output_type": "display_data",
          "data": {
            "application/vnd.jupyter.widget-view+json": {
              "model_id": "c0bf9d298a794dc7b2136f6ad7494d1d",
              "version_minor": 0,
              "version_major": 2
            },
            "text/plain": [
              "HBox(children=(FloatProgress(value=1.0, bar_style='info', max=1.0), HTML(value='')))"
            ]
          },
          "metadata": {
            "tags": []
          }
        },
        {
          "output_type": "stream",
          "text": [
            "\n",
            "0.32210353518833457\n"
          ],
          "name": "stdout"
        }
      ]
    },
    {
      "cell_type": "code",
      "metadata": {
        "id": "1wGNADbHDD5q"
      },
      "source": [
        "#user_2_user KNN"
      ],
      "execution_count": null,
      "outputs": []
    },
    {
      "cell_type": "code",
      "metadata": {
        "id": "m2iFJuKPHkT-"
      },
      "source": [
        "#сложим матрицу по столбцам\n",
        "X_sparse = sp.vstack(train_rows)\n",
        "#сожмем матрицу\n",
        "X_stored = X_sparse.tocsr()"
      ],
      "execution_count": null,
      "outputs": []
    },
    {
      "cell_type": "code",
      "metadata": {
        "id": "pI6UCkr3Dtof"
      },
      "source": [
        "#снизим размероность используя SVD\n",
        "svd = TruncatedSVD(n_components=128)\n",
        "X_dense = svd.fit_transform(X_sparse)"
      ],
      "execution_count": null,
      "outputs": []
    },
    {
      "cell_type": "code",
      "metadata": {
        "colab": {
          "base_uri": "https://localhost:8080/"
        },
        "id": "8ixgCbA2Dw7l",
        "outputId": "ec85a563-23f9-437a-8b6a-7fc726fbdb02"
      },
      "source": [
        "#зададим количество соседей\n",
        "num_neighbours = 256\n",
        "#создадим модель\n",
        "knn = NearestNeighbors(n_neighbors=num_neighbours, metric=\"cosine\")\n",
        "#обучим модель\n",
        "knn.fit(X_dense)"
      ],
      "execution_count": null,
      "outputs": [
        {
          "output_type": "execute_result",
          "data": {
            "text/plain": [
              "NearestNeighbors(algorithm='auto', leaf_size=30, metric='cosine',\n",
              "                 metric_params=None, n_jobs=None, n_neighbors=256, p=2,\n",
              "                 radius=1.0)"
            ]
          },
          "metadata": {
            "tags": []
          },
          "execution_count": 40
        }
      ]
    },
    {
      "cell_type": "code",
      "metadata": {
        "id": "MMmRIFYsLmRq"
      },
      "source": [
        "#создадим датасет рекомендуемых товаров\n",
        "df_result_user_knn = pd.DataFrame(columns=['user_id','product_id'])"
      ],
      "execution_count": null,
      "outputs": []
    },
    {
      "cell_type": "code",
      "metadata": {
        "colab": {
          "base_uri": "https://localhost:8080/",
          "height": 83,
          "referenced_widgets": [
            "27329557f7bb4883b8988352c5398bd6",
            "617bb61efe8147ffba0a93ca7052aeb3",
            "cd61784b1dbd4dfb94fca8282ffb2ba8",
            "a3457485247440abbd61004113c8b53c",
            "db9a6d61b0d5436cac137bf9638dee25",
            "4863d1deca3b4095b0c671809a1fcf06",
            "ec8e68b672074ed4ab8f6e375a44af2b",
            "3c2a680f985e4e958913166115ffac38"
          ]
        },
        "id": "RH4fhq3FDzX1",
        "outputId": "f0971433-69d0-4430-87be-891780891d41"
      },
      "source": [
        "####user_2_user KNN\n",
        "m_ap_user_knn = []\n",
        "usr_id = 0\n",
        "for index,values in tqdm(enumerate(train_matrix)):\n",
        "  #подготовим данные для подачи в модель\n",
        "  row_sparse = make_coo_row(np.nonzero(values)[0],usr_id)\n",
        "  #понизим размерность\n",
        "  row_dense = svd.transform(row_sparse)\n",
        "  #получим прогноз\n",
        "  knn_result = knn.kneighbors(row_dense, n_neighbors=num_neighbours)\n",
        "  #получим ближайших соседий (n_queries, n_neighbors)\n",
        "  neighbors = knn_result[1]\n",
        "  #получим сумму и переведем в массив numpy и свернем массив в одно измерение\n",
        "  scores = np.asarray(X_stored[neighbors[0]].sum(axis=0)[0]).flatten()\n",
        "  #получим индексы отсортированного массива\n",
        "  top_indices = np.argsort(-scores)\n",
        "  #декодируем полученные рекомендации\n",
        "  recommended_items = [encode_product_id.get(i) for i in top_indices[:10]]\n",
        "  #получим товары которые покупал пользователь\n",
        "  tmp = np.nonzero(test_matrix[index])[0]\n",
        "  #декодируем товары которые покупал пользователь\n",
        "  gt_items = [encode_product_id.get(i) for i in tmp] \n",
        "  #посчитаем метрику\n",
        "  ap = normalized_average_precision(gt_items, np.array(recommended_items))\n",
        "  #добавим результат в датасет\n",
        "  df_result_user_knn = df_result_user_knn.append({'user_id':encode_user_id.get(index),'product_id':recommended_items},ignore_index=True)\n",
        "  usr_id += 1\n",
        "  m_ap_user_knn.append(ap)\n",
        "print(np.mean(m_ap_user_knn))"
      ],
      "execution_count": null,
      "outputs": [
        {
          "output_type": "display_data",
          "data": {
            "application/vnd.jupyter.widget-view+json": {
              "model_id": "27329557f7bb4883b8988352c5398bd6",
              "version_minor": 0,
              "version_major": 2
            },
            "text/plain": [
              "HBox(children=(FloatProgress(value=1.0, bar_style='info', max=1.0), HTML(value='')))"
            ]
          },
          "metadata": {
            "tags": []
          }
        },
        {
          "output_type": "stream",
          "text": [
            "\n",
            "0.31127223622921385\n"
          ],
          "name": "stdout"
        }
      ]
    },
    {
      "cell_type": "code",
      "metadata": {
        "id": "HFLYK7jjMmQm"
      },
      "source": [
        "#подготовим датасет для kaggle"
      ],
      "execution_count": null,
      "outputs": []
    },
    {
      "cell_type": "code",
      "metadata": {
        "id": "o54oXvBIMpLh"
      },
      "source": [
        "def conv(x):\n",
        "  g = str()\n",
        "  for i in (x):\n",
        "    g += str(i) + ' '\n",
        "  return g"
      ],
      "execution_count": null,
      "outputs": []
    },
    {
      "cell_type": "code",
      "metadata": {
        "id": "AmeRH_GiMu2M"
      },
      "source": [
        "f = lambda x: conv(x['product_id']) "
      ],
      "execution_count": null,
      "outputs": []
    },
    {
      "cell_type": "code",
      "metadata": {
        "id": "tW3kwJRDMwyv"
      },
      "source": [
        "df_result_als['test'] = df_result_als.apply(f,axis=1)\n",
        "df_result_item_knn['test'] = df_result_item_knn.apply(f,axis=1)\n",
        "df_result_user_knn['test'] = df_result_user_knn.apply(f,axis=1)"
      ],
      "execution_count": null,
      "outputs": []
    },
    {
      "cell_type": "code",
      "metadata": {
        "id": "Ijjwl1XKM0H1"
      },
      "source": [
        "df_result_als.drop(columns=['product_id'],inplace=True)\n",
        "df_result_item_knn.drop(columns=['product_id'],inplace=True)\n",
        "df_result_user_knn.drop(columns=['product_id'],inplace=True)"
      ],
      "execution_count": null,
      "outputs": []
    },
    {
      "cell_type": "code",
      "metadata": {
        "id": "gaFZNsDYM1yB"
      },
      "source": [
        "df_result_als.rename(columns={\"test\": \"product_id\"},inplace=True)\n",
        "df_result_item_knn.rename(columns={\"test\": \"product_id\"},inplace=True)\n",
        "df_result_user_knn.rename(columns={\"test\": \"product_id\"},inplace=True)"
      ],
      "execution_count": null,
      "outputs": []
    },
    {
      "cell_type": "code",
      "metadata": {
        "id": "F8k7ZyEGM3fL"
      },
      "source": [
        "df_result_als.to_csv('/content/drive/MyDrive/skillbox-recommender-system.zip (Unzipped Files)/df_result_als.csv',index=False)\n",
        "df_result_item_knn.to_csv('/content/drive/MyDrive/skillbox-recommender-system.zip (Unzipped Files)/df_result_item_knn.csv',index=False)\n",
        "df_result_user_knn.to_csv('/content/drive/MyDrive/skillbox-recommender-system.zip (Unzipped Files)/df_result_user_knn.csv',index=False)"
      ],
      "execution_count": null,
      "outputs": []
    }
  ]
}